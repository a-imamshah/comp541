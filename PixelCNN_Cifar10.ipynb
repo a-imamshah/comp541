{
 "cells": [
  {
   "cell_type": "code",
   "execution_count": 1,
   "metadata": {},
   "outputs": [
    {
     "name": "stderr",
     "output_type": "stream",
     "text": [
      "\u001b[32m\u001b[1m   Updating\u001b[22m\u001b[39m registry at `~/.julia/registries/General`\n",
      "######################################################################### 100.0%\n",
      "\u001b[32m\u001b[1m  Resolving\u001b[22m\u001b[39m package versions...\n",
      "\u001b[32m\u001b[1mNo Changes\u001b[22m\u001b[39m to `/scratch/users/ashah20/.julia/environments/v1.5/Project.toml`\n",
      "\u001b[32m\u001b[1mNo Changes\u001b[22m\u001b[39m to `/scratch/users/ashah20/.julia/environments/v1.5/Manifest.toml`\n",
      "\u001b[32m\u001b[1m  Resolving\u001b[22m\u001b[39m package versions...\n",
      "\u001b[32m\u001b[1mNo Changes\u001b[22m\u001b[39m to `/scratch/users/ashah20/.julia/environments/v1.5/Project.toml`\n",
      "\u001b[32m\u001b[1mNo Changes\u001b[22m\u001b[39m to `/scratch/users/ashah20/.julia/environments/v1.5/Manifest.toml`\n"
     ]
    }
   ],
   "source": [
    "import Pkg; Pkg.add(\"MLDatasets\")\n",
    "Pkg.add(\"CUDA\")\n",
    "using Printf, Random, Test, Statistics\n",
    "using MLDatasets\n",
    "using Knet\n",
    "import Base: length, size, iterate, eltype, IteratorSize, IteratorEltype, haslength, @propagate_inbounds, repeat, rand, tail\n",
    "import .Iterators: cycle, Cycle, take\n",
    "import CUDA # functional\n",
    "array_type=(CUDA.functional() ? KnetArray{Float32} : Array{Float32})\n",
    "using Knet: Knet, dir, accuracy, progress, sgd, gc, Param, KnetArray, Data, minibatch, nll, relu, training, dropout, sigm # param, param0, xavier_uniform\n",
    "#using IterTools: ncycle, takenth\n",
    "#using Base.Iterators: flatten\n",
    "using JLD2, FileIO"
   ]
  },
  {
   "cell_type": "code",
   "execution_count": 2,
   "metadata": {},
   "outputs": [
    {
     "data": {
      "text/plain": [
       "((32, 32, 3, 50000), (50000,), (32, 32, 3, 10000), (10000,))"
      ]
     },
     "execution_count": 2,
     "metadata": {},
     "output_type": "execute_result"
    }
   ],
   "source": [
    "# load full training set\n",
    "train_x, train_y = CIFAR10.traindata()\n",
    "\n",
    "# load full test set\n",
    "test_x,  test_y  = CIFAR10.testdata()\n",
    "\n",
    "size(train_x), size(train_y), size(test_x), size(test_y)"
   ]
  },
  {
   "cell_type": "code",
   "execution_count": 3,
   "metadata": {},
   "outputs": [
    {
     "name": "stdout",
     "output_type": "stream",
     "text": [
      "Effective GPU memory usage: 0.95% (308.750 MiB/31.749 GiB)\n",
      "CUDA allocator usage: 0 bytes\n",
      "binned usage: 0 bytes (0 bytes allocated, 0 bytes cached)\n"
     ]
    }
   ],
   "source": [
    "CUDA.reclaim()\n",
    "CUDA.memory_status()"
   ]
  },
  {
   "cell_type": "code",
   "execution_count": 4,
   "metadata": {},
   "outputs": [
    {
     "data": {
      "text/plain": [
       "discretize (generic function with 1 method)"
      ]
     },
     "execution_count": 4,
     "metadata": {},
     "output_type": "execute_result"
    }
   ],
   "source": [
    "\"\"\"\n",
    "    occlude(image, n_rows)\n",
    "\n",
    "Creates occluded image by assigning zeros to image rows - n_rows\n",
    "\"\"\"\n",
    "function occlude(image, n_rows)\n",
    "    i_size = size(image)\n",
    "    zero = zeros(i_size[1]-n_rows, i_size[2], i_size[3])\n",
    "    occluded = vcat(image[1:n_rows,:,:], zero)\n",
    "    return occluded\n",
    "end\n",
    "\n",
    "function occlude_data(data, n_rows)\n",
    "    i_size = size(data)\n",
    "    zero = zeros(i_size[1]-n_rows, i_size[2], i_size[3])\n",
    "    occluded_data = vcat(data[1:n_rows,:,:], zero)\n",
    "    return occluded_data\n",
    "end\n",
    "\n",
    "function discretize(data)\n",
    "    data = data .* 255\n",
    "    data = ceil.(data)\n",
    "end\n"
   ]
  },
  {
   "cell_type": "code",
   "execution_count": 5,
   "metadata": {},
   "outputs": [
    {
     "data": {
      "text/plain": [
       "ConvA"
      ]
     },
     "execution_count": 5,
     "metadata": {},
     "output_type": "execute_result"
    }
   ],
   "source": [
    "struct ConvA\n",
    "    w\n",
    "    b\n",
    "    f\n",
    "    p \n",
    "end\n",
    "\n",
    "function (c::ConvA)(x)\n",
    "    return c.f.(conv4(c.w, dropout(x,c.p), padding = 0) .+ c.b)\n",
    "end\n",
    "\n",
    "function ConvA(w1::Int,w2::Int,cx::Int,cy::Int,f=relu;pdrop=0)\n",
    "    atype=KnetArray{Float32}\n",
    "    w = (atype(ones(w1,w2,cx,cy)))\n",
    "    w[5:7,:,:,:] .= 0\n",
    "    w[4,4:7,:,:] .= 0\n",
    "    w = Param(w)\n",
    "    return ConvA(w, param0(1,1,cy,1, atype=KnetArray{Float32}), f, pdrop)\n",
    "end\n"
   ]
  },
  {
   "cell_type": "code",
   "execution_count": 6,
   "metadata": {},
   "outputs": [
    {
     "data": {
      "text/plain": [
       "ConvB"
      ]
     },
     "execution_count": 6,
     "metadata": {},
     "output_type": "execute_result"
    }
   ],
   "source": [
    "# Define a convolutional layer:\n",
    "\n",
    "struct ConvB\n",
    "    w\n",
    "    b\n",
    "    f\n",
    "    p\n",
    "    pad\n",
    "end\n",
    "\n",
    "function (c::ConvB)(x)\n",
    "    return c.f.(conv4(c.w, dropout(x,c.p), padding = c.pad) .+ c.b)\n",
    "end\n",
    "\n",
    "function ConvB(w1::Int,w2::Int,cx::Int,cy::Int,f=relu;pdrop=0, pad=1)\n",
    "    return ConvB(param(w1,w2,cx,cy, atype=KnetArray{Float32}), param0(1,1,cy,1, atype=KnetArray{Float32}), f, pdrop, pad)\n",
    "end\n"
   ]
  },
  {
   "cell_type": "code",
   "execution_count": 7,
   "metadata": {},
   "outputs": [],
   "source": [
    "struct ResBlock\n",
    "    convlayers\n",
    "    ResBlock(convlayers...) = new(convlayers)\n",
    "end\n",
    "\n",
    "function (res::ResBlock)(x)\n",
    "    xres = copy(x)\n",
    "    \n",
    "    for l in res.convlayers\n",
    "        x = l(x)\n",
    "    end\n",
    "   \n",
    "    return x .+ xres\n",
    "end\n"
   ]
  },
  {
   "cell_type": "code",
   "execution_count": 8,
   "metadata": {},
   "outputs": [],
   "source": [
    "# Let's define a chain of layers\n",
    "struct Chain\n",
    "    layers\n",
    "    Chain(layers...) = new(layers)\n",
    "end\n",
    "(c::Chain)(x) = (for l in c.layers; x = l(x); end; x)\n",
    "(c::Chain)(x,y) = nll(c(x),y)\n",
    "(c::Chain)(d::Data) = mean(c(x,y) for (x,y) in d)"
   ]
  },
  {
   "cell_type": "code",
   "execution_count": 9,
   "metadata": {},
   "outputs": [
    {
     "data": {
      "text/plain": [
       "pad (generic function with 3 methods)"
      ]
     },
     "execution_count": 9,
     "metadata": {},
     "output_type": "execute_result"
    }
   ],
   "source": [
    "function padImage(image, padding=1, constant=0)\n",
    "    row, col, chnl = size(image)\n",
    "    pad1 = ones(padding, col, chnl) .* constant\n",
    "    pad2 = ones(padding*2+row, padding, chnl) .* constant\n",
    "    padded = vcat(pad1, image, pad1)\n",
    "    padded = hcat(pad2, padded, pad2)\n",
    "    return padded\n",
    "end\n",
    "\n",
    "function pad(data, padding=1, constant=0)\n",
    "    row, col, chnl, dsize = size(data)\n",
    "    padded = zeros(row+padding*2, col+padding*2, chnl, dsize)\n",
    "    for i in 1:dsize\n",
    "        padded[:,:,:,i] .= padImage(data[:,:,:,i], padding, constant)\n",
    "    end\n",
    "    return padded\n",
    "end"
   ]
  },
  {
   "cell_type": "code",
   "execution_count": 10,
   "metadata": {},
   "outputs": [],
   "source": [
    "atype=KnetArray{Float32}\n",
    "small_data = train_x[:,:,:,1:50000];\n",
    "disc_data = discretize(small_data)\n",
    "small_data = pad(small_data, 3, 1)\n",
    "small_data = atype(small_data);\n",
    "\n",
    "lbls = reshape(disc_data[:,:,:,1:50000], (3072,50000));\n",
    "lbls = Int64.(lbls);"
   ]
  },
  {
   "cell_type": "code",
   "execution_count": 11,
   "metadata": {},
   "outputs": [
    {
     "data": {
      "text/plain": [
       "(38, 38, 3, 50000)"
      ]
     },
     "execution_count": 11,
     "metadata": {},
     "output_type": "execute_result"
    }
   ],
   "source": [
    "size(small_data)"
   ]
  },
  {
   "cell_type": "code",
   "execution_count": 12,
   "metadata": {},
   "outputs": [
    {
     "data": {
      "text/plain": [
       "lossfunc (generic function with 1 method)"
      ]
     },
     "execution_count": 12,
     "metadata": {},
     "output_type": "execute_result"
    }
   ],
   "source": [
    "function lossfunc(model, images, lbls)\n",
    "    loss = 0.0\n",
    "    score = model(images)\n",
    "    #println(sum.(score))\n",
    "    scores = reshape(score, (3072,256, :));\n",
    "    #println(score)\n",
    "\n",
    "    for i in 1:50\n",
    "        loss += nll(scores[:,:,i], lbls[:,i], dims=2)\n",
    "    end\n",
    "\n",
    "    return loss /= 50\n",
    "    \n",
    "end"
   ]
  },
  {
   "cell_type": "code",
   "execution_count": 13,
   "metadata": {},
   "outputs": [
    {
     "data": {
      "text/plain": [
       "trainmodel (generic function with 1 method)"
      ]
     },
     "execution_count": 13,
     "metadata": {},
     "output_type": "execute_result"
    }
   ],
   "source": [
    "function trainmodel(model, images, lbls)\n",
    "    L = @diff lossfunc(model, images, lbls)\n",
    "    \n",
    "    for p in params(model)\n",
    "        g = grad(L, p)\n",
    "        update!(value(p), g, p.opt)\n",
    "    end\n",
    "    #println(value(L))\n",
    "    return value(L)\n",
    "end"
   ]
  },
  {
   "cell_type": "code",
   "execution_count": 63,
   "metadata": {},
   "outputs": [
    {
     "data": {
      "text/plain": [
       "Chain((ResBlock((ConvB(P(KnetArray{Float32,4}(1,1,256,128)), P(KnetArray{Float32,4}(1,1,128,1)), Knet.Ops20.relu, 0, 0), ConvB(P(KnetArray{Float32,4}(3,3,128,128)), P(KnetArray{Float32,4}(1,1,128,1)), Knet.Ops20.relu, 0, 1), ConvB(P(KnetArray{Float32,4}(1,1,128,256)), P(KnetArray{Float32,4}(1,1,256,1)), Knet.Ops20.relu, 0, 0))), ConvB(P(KnetArray{Float32,4}(1,1,256,128)), P(KnetArray{Float32,4}(1,1,128,1)), Knet.Ops20.relu, 0, 0), ConvB(P(KnetArray{Float32,4}(1,1,128,768)), P(KnetArray{Float32,4}(1,1,768,1)), Knet.Ops20.relu, 0, 0)))"
      ]
     },
     "execution_count": 63,
     "metadata": {},
     "output_type": "execute_result"
    }
   ],
   "source": [
    "d = 128\n",
    "\n",
    "residual = ResBlock(ConvB(1,1,256,128, pad=0),\n",
    "                    ConvB(3,3,128,128),\n",
    "                    ConvB(1,1,128,256, pad=0))\n",
    "\n",
    "\n",
    "model_rand =   Chain(residual,\n",
    "                ConvB(1,1,256,d, pad=0),\n",
    "                ConvB(1,1,d,256*3, pad=0))\n",
    "\n",
    "\n",
    "atype=KnetArray{Float32}\n",
    "w = randn(7,7,3,256)\n",
    "w[5:7,:,:,:] .= 0\n",
    "w[4,4:7,:,:] .= 0\n",
    "w = atype(w)\n"
   ]
  },
  {
   "cell_type": "code",
   "execution_count": 65,
   "metadata": {},
   "outputs": [
    {
     "name": "stdout",
     "output_type": "stream",
     "text": [
      "4.815572624206543\n",
      "4.585355319976807\n",
      "4.489391331672668\n",
      "4.304411401748657\n",
      "4.273286480903625\n",
      "4.152851524353028\n",
      "4.273023281097412\n",
      "4.230803961753845\n",
      "4.263056330680847\n",
      "4.37928867816925\n",
      "4.4264367580413815\n",
      "4.272241563796997\n",
      "4.33144793510437\n",
      "4.448382458686829\n",
      "4.2188523435592655\n",
      "4.330837717056275\n",
      "4.041058235168457\n",
      "4.150795211791992\n",
      "4.132882599830627\n",
      "3.971154294013977\n",
      "3.932212748527527\n",
      "4.189031572341919\n",
      "3.8253722333908082\n",
      "3.8233991193771364\n",
      "3.812943892478943\n",
      "3.753953719139099\n",
      "3.722780017852783\n",
      "3.7553083229064943\n",
      "3.6086316204071043\n",
      "4.356254439353943\n",
      "4.30923086643219\n",
      "3.5872610712051394\n",
      "3.6084478855133058\n",
      "4.4246152925491335\n",
      "3.525490975379944\n",
      "3.6458112001419067\n",
      "3.646661205291748\n",
      "3.5792054462432863\n",
      "3.5820349884033202\n",
      "3.6136041688919067\n",
      "3.4903979825973512\n",
      "3.4273129367828368\n",
      "3.5751155757904054\n",
      "3.4926894330978393\n",
      "3.399017481803894\n",
      "3.4000622844696045\n",
      "3.406632432937622\n",
      "3.46189661026001\n",
      "3.409279398918152\n",
      "3.364241247177124\n",
      "3.3715019035339355\n",
      "3.3599021816253662\n",
      "3.4559621620178222\n",
      "3.307206869125366\n",
      "3.510907459259033\n",
      "3.308754391670227\n",
      "3.3008584213256835\n",
      "3.2082945680618287\n",
      "3.297864890098572\n",
      "3.2035118103027345\n",
      "3.2716664123535155\n",
      "3.3018695068359376\n",
      "4.290018458366394\n",
      "3.119505889415741\n",
      "3.223447003364563\n",
      "3.273179082870483\n",
      "3.5937916326522825\n",
      "3.2392036533355713\n",
      "3.1916296243667603\n",
      "3.0405497193336486\n",
      "3.1545120429992677\n",
      "3.1448004817962647\n",
      "3.5502498078346254\n",
      "3.282350220680237\n",
      "3.1523857259750367\n",
      "3.049634473323822\n",
      "3.1287354326248167\n",
      "3.1315504002571104\n",
      "3.4901819682121276\n",
      "3.2015861892700195\n",
      "3.2505493783950805\n",
      "3.253045074939728\n",
      "3.2467832708358766\n",
      "3.8773040103912355\n",
      "3.197440814971924\n",
      "3.063534154891968\n",
      "3.1998145723342897\n",
      "3.151588201522827\n",
      "3.3544337821006773\n",
      "3.118910584449768\n",
      "3.0484248089790342\n",
      "3.0121801543235778\n",
      "3.132829022407532\n",
      "3.0462905836105345\n",
      "3.383057944774628\n",
      "3.042803695201874\n",
      "3.1254497003555297\n",
      "3.014460735321045\n",
      "3.239079084396362\n",
      "3.3907057857513427\n"
     ]
    }
   ],
   "source": [
    "losses = zeros(1, 100)\n",
    "batchsize = 50\n",
    "\n",
    "\n",
    "for p in params(model_rand)\n",
    "    p.opt = Adagrad(lr=0.05, gclip=0.01)\n",
    "end\n",
    "\n",
    "batchloss = 0\n",
    "\n",
    "for epochs in 1:100\n",
    "    for batch in 1:1000\n",
    "        batch_data = small_data[:,:,:,((batch-1)*batchsize+1):batch*batchsize]\n",
    "        batch_data = conv4(w, batch_data)\n",
    "        batchloss = trainmodel(model_rand, batch_data, lbls[:,((batch-1)*batchsize+1):batch*batchsize])\n",
    "        #println(batchloss)\n",
    "    end\n",
    "    losses[epochs] = batchloss\n",
    "    println(losses[epochs])\n",
    "end"
   ]
  },
  {
   "cell_type": "code",
   "execution_count": 62,
   "metadata": {},
   "outputs": [],
   "source": [
    "@save \"modelCNN3.jld2\" model"
   ]
  },
  {
   "cell_type": "code",
   "execution_count": 70,
   "metadata": {},
   "outputs": [],
   "source": [
    "@save \"modelCNN_Cifar.jld2\" model_rand w"
   ]
  },
  {
   "cell_type": "code",
   "execution_count": 72,
   "metadata": {},
   "outputs": [
    {
     "data": {
      "text/plain": [
       "2-element Array{Symbol,1}:\n",
       " :model_rand\n",
       " :w"
      ]
     },
     "execution_count": 72,
     "metadata": {},
     "output_type": "execute_result"
    }
   ],
   "source": [
    "@load \"modelCNN_Cifar.jld2\" model_rand w"
   ]
  },
  {
   "cell_type": "code",
   "execution_count": 15,
   "metadata": {},
   "outputs": [],
   "source": [
    "tst_data = small_data[:,:,:,1:10]\n",
    "tst_data = conv4(w, tst_data)\n",
    "score = model(tst_data);"
   ]
  },
  {
   "cell_type": "code",
   "execution_count": 16,
   "metadata": {},
   "outputs": [],
   "source": [
    "using PyPlot"
   ]
  },
  {
   "cell_type": "code",
   "execution_count": 17,
   "metadata": {},
   "outputs": [
    {
     "data": {
      "image/png": "[encoded data removed]",
      "text/plain": [
       "Figure(PyObject <Figure size 480x480 with 1 Axes>)"
      ]
     },
     "metadata": {},
     "output_type": "display_data"
    },
    {
     "data": {
      "text/plain": [
       "PyObject <matplotlib.image.AxesImage object at 0x2aed0da0c280>"
      ]
     },
     "execution_count": 17,
     "metadata": {},
     "output_type": "execute_result"
    }
   ],
   "source": [
    "scores = reshape(score, (3072,256, 10))\n",
    "predicted = argmax(scores[:,:,1], dims=2)\n",
    "pred_image = zeros(3072,1)\n",
    "for i in 1:3072\n",
    "    pred_image[i] = predicted[i][2]\n",
    "end\n",
    "\n",
    "image = reshape(pred_image, (32,32,3));\n",
    "sample = image ./ 256;\n",
    "B = Array{Float32}(sample);\n",
    "#subplot(1,3,2)\n",
    "matshow(B)"
   ]
  },
  {
   "cell_type": "code",
   "execution_count": 18,
   "metadata": {},
   "outputs": [
    {
     "data": {
      "image/png": "[encoded data removed]",
      "text/plain": [
       "Figure(PyObject <Figure size 480x480 with 1 Axes>)"
      ]
     },
     "metadata": {},
     "output_type": "display_data"
    },
    {
     "data": {
      "text/plain": [
       "PyObject <matplotlib.image.AxesImage object at 0x2aee9dfd5ac0>"
      ]
     },
     "execution_count": 18,
     "metadata": {},
     "output_type": "execute_result"
    }
   ],
   "source": [
    "matshow(train_x[:,:,:,2292])"
   ]
  },
  {
   "cell_type": "code",
   "execution_count": 30,
   "metadata": {},
   "outputs": [
    {
     "data": {
      "image/png": "[encoded data removed]",
      "text/plain": [
       "Figure(PyObject <Figure size 480x480 with 1 Axes>)"
      ]
     },
     "metadata": {},
     "output_type": "display_data"
    }
   ],
   "source": [
    "test_image = train_x[:,:,:,2292]\n",
    "n_rows = 16\n",
    "test_image = occlude(test_image, n_rows)\n",
    "matshow(test_image)\n",
    "test_image = reshape(test_image, (32,32,3,1))\n",
    "test_image = pad(test_image, 3, 1)\n",
    "test_image = atype(test_image);"
   ]
  },
  {
   "cell_type": "code",
   "execution_count": 83,
   "metadata": {},
   "outputs": [
    {
     "data": {
      "text/plain": [
       "7×7×3×256 KnetArray{Float32,4}:\n",
       "[:, :, 1, 1] =\n",
       "  0.394828   0.0972523  -1.58428   0.0659084  -0.683003  -0.386871   -1.5553\n",
       " -0.782085   0.0349796   1.08678  -0.733408    0.911558   2.02464     2.52515\n",
       " -0.375083  -0.873731    1.81367   0.325022    0.868414   0.0237613   1.0727\n",
       " -0.926602  -0.740646   -2.44581   0.0         0.0        0.0         0.0\n",
       "  0.0        0.0         0.0       0.0         0.0        0.0         0.0\n",
       "  0.0        0.0         0.0       0.0         0.0        0.0         0.0\n",
       "  0.0        0.0         0.0       0.0         0.0        0.0         0.0\n",
       "\n",
       "[:, :, 2, 1] =\n",
       "  1.72557   -1.79218    0.183603  -1.72735    -0.288534   0.798966   0.251808\n",
       " -0.891529  -0.656712   1.5214    -0.0670449  -0.365499  -1.24373   -0.844468\n",
       " -1.12562   -0.439168  -0.665625  -0.464902   -0.681931   0.619884  -1.28246\n",
       "  1.25764    0.430318  -0.715108   0.0         0.0        0.0        0.0\n",
       "  0.0        0.0        0.0        0.0         0.0        0.0        0.0\n",
       "  0.0        0.0        0.0        0.0         0.0        0.0        0.0\n",
       "  0.0        0.0        0.0        0.0         0.0        0.0        0.0\n",
       "\n",
       "[:, :, 3, 1] =\n",
       " 0.863433  -1.03134   -0.681749  -0.284007  -0.14293   -0.667816  -1.06728\n",
       " 0.614495   0.459123   1.87579    1.52998   -0.9792    -0.529213  -0.733265\n",
       " 0.534      0.385368  -0.449631   0.906659  -0.148314  -0.326877  -1.43165\n",
       " 0.709618  -1.35316   -0.300054   0.0        0.0        0.0        0.0\n",
       " 0.0        0.0        0.0        0.0        0.0        0.0        0.0\n",
       " 0.0        0.0        0.0        0.0        0.0        0.0        0.0\n",
       " 0.0        0.0        0.0        0.0        0.0        0.0        0.0\n",
       "\n",
       "[:, :, 1, 2] =\n",
       " -0.498495    0.990816   0.915165   …  -0.0821704  -0.0234519  -0.210701\n",
       "  0.0374326  -1.36676    0.799388      -0.307362   -0.930706   -0.0932942\n",
       " -0.289011   -0.510731  -0.0529712      0.25229     0.614578   -0.427478\n",
       "  0.320135    0.351076  -0.985274       0.0         0.0         0.0\n",
       "  0.0         0.0        0.0            0.0         0.0         0.0\n",
       "  0.0         0.0        0.0        …   0.0         0.0         0.0\n",
       "  0.0         0.0        0.0            0.0         0.0         0.0\n",
       "\n",
       "[:, :, 2, 2] =\n",
       " -0.91601    -0.321712   -0.712641  …  -0.078245    1.50335    0.909472\n",
       " -0.628502   -0.0702521   0.443446     -0.0226855  -0.890347  -0.102927\n",
       " -2.19659     0.719932    0.632359     -1.03582     0.864093  -0.0850296\n",
       " -0.0246438  -0.262936    0.309098      0.0         0.0        0.0\n",
       "  0.0         0.0         0.0           0.0         0.0        0.0\n",
       "  0.0         0.0         0.0       …   0.0         0.0        0.0\n",
       "  0.0         0.0         0.0           0.0         0.0        0.0\n",
       "\n",
       "[:, :, 3, 2] =\n",
       "  1.09141   -1.08916    1.52047    1.65204    0.462278   1.12603   0.143637\n",
       " -0.466004  -0.462804   0.251503  -0.531495   0.31541    1.37474  -1.66884\n",
       "  0.774356   0.208623  -1.39101   -1.13384   -1.83182   -0.71252   0.409124\n",
       " -0.371332   0.672753  -0.993212   0.0        0.0        0.0       0.0\n",
       "  0.0        0.0        0.0        0.0        0.0        0.0       0.0\n",
       "  0.0        0.0        0.0        0.0        0.0        0.0       0.0\n",
       "  0.0        0.0        0.0        0.0        0.0        0.0       0.0\n",
       "\n",
       "[:, :, 1, 3] =\n",
       " -0.341201  0.274057   0.913873  0.48965   -2.22109   -2.25598    1.19417\n",
       " -0.11763   1.8498    -0.476251  0.519525   0.388999   1.48824   -0.726209\n",
       " -1.14397   0.510345   1.07733   0.673856  -0.51235    0.589714   0.393784\n",
       "  0.185561  0.701856  -0.038669  0.0        0.0        0.0        0.0\n",
       "  0.0       0.0        0.0       0.0        0.0        0.0        0.0\n",
       "  0.0       0.0        0.0       0.0        0.0        0.0        0.0\n",
       "  0.0       0.0        0.0       0.0        0.0        0.0        0.0\n",
       "\n",
       "[:, :, 2, 3] =\n",
       "  0.544084  -0.527781   0.836733  -0.688682   0.565608  -0.888715  -0.469041\n",
       " -0.382914  -1.77386    1.23535    2.5613    -0.35029    1.60689    1.03479\n",
       " -2.10978    1.36334   -0.993869  -1.45775   -0.614765  -0.807339  -0.688885\n",
       " -0.868976  -0.8815    -0.351325   0.0        0.0        0.0        0.0\n",
       "  0.0        0.0        0.0        0.0        0.0        0.0        0.0\n",
       "  0.0        0.0        0.0        0.0        0.0        0.0        0.0\n",
       "  0.0        0.0        0.0        0.0        0.0        0.0        0.0\n",
       "\n",
       "[:, :, 3, 3] =\n",
       "  2.09884     0.744417  -0.134667  …  -1.44713    0.57445    0.408993\n",
       " -0.0725817  -0.102696   0.259785     -1.63738    0.224163   1.22728\n",
       " -0.131892    0.601377  -0.444894      0.349115  -0.227226  -0.33592\n",
       "  1.60175     0.44002   -1.27137       0.0        0.0        0.0\n",
       "  0.0         0.0        0.0           0.0        0.0        0.0\n",
       "  0.0         0.0        0.0       …   0.0        0.0        0.0\n",
       "  0.0         0.0        0.0           0.0        0.0        0.0\n",
       "\n",
       "...\n",
       "\n",
       "[:, :, 1, 254] =\n",
       "  0.14906   -1.27561    1.07694   -0.179227  -0.158923   -2.2147   -0.550073\n",
       " -0.166201  -1.22986    0.713056  -1.89215    2.3743     -1.47618  -1.03672\n",
       "  0.149302   0.158003  -1.19618   -1.3226     0.0637784  -0.13097   0.738121\n",
       " -0.459221   1.01225    0.256282   0.0        0.0         0.0       0.0\n",
       "  0.0        0.0        0.0        0.0        0.0         0.0       0.0\n",
       "  0.0        0.0        0.0        0.0        0.0         0.0       0.0\n",
       "  0.0        0.0        0.0        0.0        0.0         0.0       0.0\n",
       "\n",
       "[:, :, 2, 254] =\n",
       " -0.447702  -0.303763   -0.344267   …   1.74307   -0.210841  -1.95568\n",
       " -0.697106   1.09739     1.33379       -2.35565    1.13648    1.51848\n",
       "  0.854894   0.168057   -0.0155496      0.077102  -1.02409    0.962187\n",
       "  1.29007   -0.0945719  -0.482982       0.0        0.0        0.0\n",
       "  0.0        0.0         0.0            0.0        0.0        0.0\n",
       "  0.0        0.0         0.0        …   0.0        0.0        0.0\n",
       "  0.0        0.0         0.0            0.0        0.0        0.0\n",
       "\n",
       "[:, :, 3, 254] =\n",
       " 0.427556  -0.608402   1.5724    0.466972   0.400023    0.745521  -1.06061\n",
       " 2.36312   -0.310789  -0.629042  0.514201   0.0575479  -0.528205  -1.51298\n",
       " 0.723632  -0.378449   0.138218  0.800811  -0.310257   -0.463959   1.12467\n",
       " 0.628262   0.609899   0.517696  0.0        0.0         0.0        0.0\n",
       " 0.0        0.0        0.0       0.0        0.0         0.0        0.0\n",
       " 0.0        0.0        0.0       0.0        0.0         0.0        0.0\n",
       " 0.0        0.0        0.0       0.0        0.0         0.0        0.0\n",
       "\n",
       "[:, :, 1, 255] =\n",
       "  0.455103  -1.39333    0.499071   -1.59569   1.17743    0.553124   0.0991102\n",
       "  0.377479  -1.26949   -0.326256    0.775159  2.09443    0.199703  -0.994978\n",
       " -0.983074   0.44755   -0.578738   -1.24623   0.151625  -0.82014    0.209576\n",
       " -0.318971   0.513188   0.0857738   0.0       0.0        0.0        0.0\n",
       "  0.0        0.0        0.0         0.0       0.0        0.0        0.0\n",
       "  0.0        0.0        0.0         0.0       0.0        0.0        0.0\n",
       "  0.0        0.0        0.0         0.0       0.0        0.0        0.0\n",
       "\n",
       "[:, :, 2, 255] =\n",
       "  1.07381   -0.916694   2.11818    1.48496    -1.46339  -0.518781  -0.692405\n",
       "  0.946571   0.197521   0.0674163  0.747059    3.11398   0.561835  -1.22196\n",
       "  1.90382    0.847794  -0.549587   0.0837998  -0.51524  -1.43293    1.13588\n",
       " -0.713912  -0.509862   0.690235   0.0         0.0       0.0        0.0\n",
       "  0.0        0.0        0.0        0.0         0.0       0.0        0.0\n",
       "  0.0        0.0        0.0        0.0         0.0       0.0        0.0\n",
       "  0.0        0.0        0.0        0.0         0.0       0.0        0.0\n",
       "\n",
       "[:, :, 3, 255] =\n",
       " -0.0647996  -1.7411    -1.08154    1.15042   -1.69257   -1.1        1.19063\n",
       "  0.0201863  -0.885283   1.44464   -0.927967  -0.883748  -0.186998  -0.883537\n",
       " -0.666056   -0.407621  -0.90733    0.380074  -1.19062   -0.964927  -1.34732\n",
       " -0.844055   -0.187613   0.931064   0.0        0.0        0.0        0.0\n",
       "  0.0         0.0        0.0        0.0        0.0        0.0        0.0\n",
       "  0.0         0.0        0.0        0.0        0.0        0.0        0.0\n",
       "  0.0         0.0        0.0        0.0        0.0        0.0        0.0\n",
       "\n",
       "[:, :, 1, 256] =\n",
       " -0.910381   1.97303  -0.448966  0.981643  -0.710737  -1.16373   -0.0258932\n",
       "  0.360879  -1.41345   0.370369  1.48112    0.300818  -0.590773  -0.0487758\n",
       "  0.284081   2.04219   1.43717   1.86142    1.31519   -0.377304   2.78252\n",
       " -1.46607    1.40902  -0.235675  0.0        0.0        0.0        0.0\n",
       "  0.0        0.0       0.0       0.0        0.0        0.0        0.0\n",
       "  0.0        0.0       0.0       0.0        0.0        0.0        0.0\n",
       "  0.0        0.0       0.0       0.0        0.0        0.0        0.0\n",
       "\n",
       "[:, :, 2, 256] =\n",
       "  0.276922   0.735497  0.769967   0.93755    0.430171  -2.24001   1.20486\n",
       " -0.700233  -0.637208  0.770045  -0.35329    1.84447   -0.105273  0.471607\n",
       " -0.187459  -0.845515  0.161423  -0.229971  -0.628596   0.729353  0.713656\n",
       " -0.71957   -1.12331   1.1567     0.0        0.0        0.0       0.0\n",
       "  0.0        0.0       0.0        0.0        0.0        0.0       0.0\n",
       "  0.0        0.0       0.0        0.0        0.0        0.0       0.0\n",
       "  0.0        0.0       0.0        0.0        0.0        0.0       0.0\n",
       "\n",
       "[:, :, 3, 256] =\n",
       "  0.46936  -0.669213  -0.030327  0.751752  -0.225411   0.0244884  -0.7138\n",
       "  1.142    -0.399283  -0.205984  1.21872   -0.806545   1.49747     1.2568\n",
       "  1.73821  -0.818503   0.766846  0.773219   0.542279  -0.236782    2.24213\n",
       " -1.0157    0.161386  -0.55137   0.0        0.0        0.0         0.0\n",
       "  0.0       0.0        0.0       0.0        0.0        0.0         0.0\n",
       "  0.0       0.0        0.0       0.0        0.0        0.0         0.0\n",
       "  0.0       0.0        0.0       0.0        0.0        0.0         0.0"
      ]
     },
     "execution_count": 83,
     "metadata": {},
     "output_type": "execute_result"
    }
   ],
   "source": [
    "w"
   ]
  },
  {
   "cell_type": "code",
   "execution_count": 91,
   "metadata": {},
   "outputs": [
    {
     "data": {
      "image/png": "[encoded data removed]",
      "text/plain": [
       "Figure(PyObject <Figure size 480x480 with 1 Axes>)"
      ]
     },
     "metadata": {},
     "output_type": "display_data"
    },
    {
     "data": {
      "text/plain": [
       "PyObject <matplotlib.image.AxesImage object at 0x2aed83ff6fd0>"
      ]
     },
     "execution_count": 91,
     "metadata": {},
     "output_type": "execute_result"
    }
   ],
   "source": [
    "orig_image = test_x[:,:,:,1017]\n",
    "orig_image = reshape(orig_image, (32,32,3,1))\n",
    "for j in n_rows+1:32\n",
    "    for k in 1:32\n",
    "        test_image = pad(orig_image, 3, 1)\n",
    "        test_image = atype(test_image);\n",
    "        test_image = conv4(w, test_image)\n",
    "        score = model_rand(test_image)\n",
    "        scores = reshape(score, (3072,256, 1));\n",
    "        predicted = argmax(scores, dims=2)\n",
    "        pred_image = zeros(3072,1)\n",
    "        for i in 1:3072\n",
    "            pred_image[i] = predicted[i][2]\n",
    "        end\n",
    "        image = reshape(pred_image, (32,32,3));\n",
    "        sample = image ./ 256;\n",
    "        B = KnetArray{Float32}(sample);\n",
    "        orig_image[j,k,:,:] .= B[j,k,:]\n",
    "        \n",
    "    end\n",
    "end\n",
    "image = reshape(orig_image, (32,32,3));\n",
    "matshow(image)"
   ]
  },
  {
   "cell_type": "code",
   "execution_count": 92,
   "metadata": {},
   "outputs": [
    {
     "data": {
      "image/png": "[encoded data removed]",
      "text/plain": [
       "Figure(PyObject <Figure size 480x480 with 1 Axes>)"
      ]
     },
     "metadata": {},
     "output_type": "display_data"
    },
    {
     "data": {
      "text/plain": [
       "PyObject <matplotlib.image.AxesImage object at 0x2aed8422d4f0>"
      ]
     },
     "execution_count": 92,
     "metadata": {},
     "output_type": "execute_result"
    }
   ],
   "source": [
    "matshow(test_x[:,:,:,1017])"
   ]
  },
  {
   "cell_type": "code",
   "execution_count": null,
   "metadata": {},
   "outputs": [],
   "source": []
  }
 ],
 "metadata": {
  "kernelspec": {
   "display_name": "Julia 1.5.3",
   "language": "julia",
   "name": "julia-1.5"
  },
  "language_info": {
   "file_extension": ".jl",
   "mimetype": "application/julia",
   "name": "julia",
   "version": "1.5.3"
  }
 },
 "nbformat": 4,
 "nbformat_minor": 4
}
