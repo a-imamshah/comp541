{
 "cells": [
  {
   "cell_type": "code",
   "execution_count": 1,
   "metadata": {},
   "outputs": [
    {
     "name": "stderr",
     "output_type": "stream",
     "text": [
      "\u001b[32m\u001b[1m   Updating\u001b[22m\u001b[39m registry at `C:\\Users\\Ahmed Imam Shah\\.julia\\registries\\General`\n",
      "\u001b[32m\u001b[1m  Resolving\u001b[22m\u001b[39m package versions...\n",
      "\u001b[32m\u001b[1mNo Changes\u001b[22m\u001b[39m to `C:\\Users\\Ahmed Imam Shah\\.julia\\environments\\v1.5\\Project.toml`\n",
      "\u001b[32m\u001b[1mNo Changes\u001b[22m\u001b[39m to `C:\\Users\\Ahmed Imam Shah\\.julia\\environments\\v1.5\\Manifest.toml`\n",
      "\u001b[32m\u001b[1m  Resolving\u001b[22m\u001b[39m package versions...\n",
      "\u001b[32m\u001b[1mNo Changes\u001b[22m\u001b[39m to `C:\\Users\\Ahmed Imam Shah\\.julia\\environments\\v1.5\\Project.toml`\n",
      "\u001b[32m\u001b[1mNo Changes\u001b[22m\u001b[39m to `C:\\Users\\Ahmed Imam Shah\\.julia\\environments\\v1.5\\Manifest.toml`\n"
     ]
    }
   ],
   "source": [
    "using Pkg; for p in [\"MLDatasets\"]; Pkg.add(p); end\n",
    "import Pkg; Pkg.add(\"PyPlot\")\n",
    "using PyPlot\n",
    "using Printf, Random, Test, Statistics\n",
    "using MLDatasets\n",
    "using Knet\n",
    "import Base: length, size, iterate, eltype, IteratorSize, IteratorEltype, haslength, @propagate_inbounds, repeat, rand, tail\n",
    "import .Iterators: cycle, Cycle, take\n",
    "using Plots; default(fmt=:png,ls=:auto)\n",
    "import CUDA # functional\n",
    "array_type=(CUDA.functional() ? KnetArray{Float32} : Array{Float32})\n",
    "using Knet: Knet, dir, accuracy, progress, sgd, load, save, gc, Param, KnetArray, Data, minibatch, nll, relu, training, dropout # param, param0, xavier_uniform\n",
    "using IterTools: ncycle, takenth\n",
    "using Base.Iterators: flatten"
   ]
  },
  {
   "cell_type": "code",
   "execution_count": 2,
   "metadata": {},
   "outputs": [],
   "source": [
    "using Knet: sigm"
   ]
  },
  {
   "cell_type": "code",
   "execution_count": 3,
   "metadata": {},
   "outputs": [
    {
     "data": {
      "text/plain": [
       "((28, 28, 60000), (60000,), (28, 28, 10000), (10000,))"
      ]
     },
     "execution_count": 3,
     "metadata": {},
     "output_type": "execute_result"
    }
   ],
   "source": [
    "# load full training set\n",
    "train_x, train_y = MNIST.traindata();\n",
    "\n",
    "# load full test set\n",
    "test_x,  test_y  = MNIST.testdata();\n",
    "\n",
    "size(train_x), size(train_y), size(test_x), size(test_y)"
   ]
  },
  {
   "cell_type": "code",
   "execution_count": 4,
   "metadata": {},
   "outputs": [
    {
     "data": {
      "image/png": "[encoded data removed]",
      "text/plain": [
       "Figure(PyObject <Figure size 480x480 with 1 Axes>)"
      ]
     },
     "metadata": {},
     "output_type": "display_data"
    },
    {
     "name": "stderr",
     "output_type": "stream",
     "text": [
      "┌ Warning: Knet.seed!() is deprecated, please use Random.seed!() and/or CUDA.seed!() instead\n",
      "└ @ Knet.KnetArrays C:\\Users\\Ahmed Imam Shah\\.julia\\packages\\Knet\\OYNCT\\src\\knetarrays\\random.jl:14\n"
     ]
    },
    {
     "data": {
      "text/plain": [
       "PyObject <matplotlib.image.AxesImage object at 0x000000003AF1C070>"
      ]
     },
     "execution_count": 4,
     "metadata": {},
     "output_type": "execute_result"
    }
   ],
   "source": [
    "\"\"\"\n",
    "    predictPixel(image)\n",
    "\n",
    "predicts the value of the pixel based on the previous pixel values\n",
    "The pixels in the input image given as the parameter will be used to predict the pixel.\n",
    "This function will return the probabilities of the functions that will be used to calculate the loss.\n",
    "\"\"\"\n",
    "function predictPixel(image, i, j)\n",
    "    random_index = rand(1:60000,size(image));\n",
    "    randPixel = train_x[i,j,random_index[i,j]]\n",
    "end\n",
    "\n",
    "\"\"\"\n",
    "    generateImage()\n",
    "\n",
    "uses `predictPixel` function recursively to generate entire image.\n",
    "\n",
    "\"\"\"\n",
    "function generateImage()\n",
    "    img = zeros(28,28);\n",
    "    for i in 1:28\n",
    "        for j in 1:28\n",
    "            img[i,j] = predictPixel(img, i, j)\n",
    "        end\n",
    "    end\n",
    "    return img;\n",
    "end\n",
    "\n",
    "Knet.seed!(2)\n",
    "image=generateImage()\n",
    "\n",
    "matshow(image)"
   ]
  },
  {
   "cell_type": "code",
   "execution_count": 5,
   "metadata": {},
   "outputs": [
    {
     "data": {
      "image/png": "[encoded data removed]",
      "text/plain": [
       "Figure(PyObject <Figure size 480x480 with 1 Axes>)"
      ]
     },
     "metadata": {},
     "output_type": "display_data"
    },
    {
     "data": {
      "text/plain": [
       "PyObject <matplotlib.image.AxesImage object at 0x000000003B5651C0>"
      ]
     },
     "execution_count": 5,
     "metadata": {},
     "output_type": "execute_result"
    }
   ],
   "source": [
    "\"\"\"\n",
    "    occlude(image, n_rows)\n",
    "\n",
    "Creates occluded image by assigning zeros to image rows - n_rows\n",
    "\"\"\"\n",
    "function occlude(image, n_rows)\n",
    "    i_size = size(image)\n",
    "    zero = zeros(i_size[1]-n_rows, i_size[2])\n",
    "    occluded = vcat(image[1:n_rows,:], zero)\n",
    "    return occluded\n",
    "end\n",
    "\n",
    "function occlude_data(data, n_rows)\n",
    "    i_size = size(data)\n",
    "    zero = zeros(i_size[1]-n_rows, i_size[2], i_size[3])\n",
    "    occluded_data = vcat(data[1:n_rows,:,:], zero)\n",
    "    return occluded_data\n",
    "end\n",
    "\n",
    "\n",
    "true_image = train_x[:,:,1]\n",
    "occludedimg = occlude(true_image, 14)\n",
    "\n",
    "occluded_data = occlude_data(train_x, 14)\n",
    "matshow(occluded_data[:,:,19])"
   ]
  },
  {
   "cell_type": "code",
   "execution_count": 6,
   "metadata": {},
   "outputs": [],
   "source": [
    "# Load MNIST data\n",
    "xtrn,ytrn = MNIST.traindata(Float32); ytrn[ytrn.==0] .= 10\n",
    "xtst,ytst = MNIST.testdata(Float32);  ytst[ytst.==0] .= 10\n",
    "\n",
    "ytrn = xtrn[14+1:end,:,:]\n",
    "ytrn = reshape(ytrn,(392,60000))\n",
    "\n",
    "ytst = xtst[14+1:end,:,:]\n",
    "ytst = reshape(ytst,(392,10000))\n",
    "\n",
    "xtrn = occlude_data(xtrn,14)\n",
    "xtst = occlude_data(xtst,14)\n",
    "\n",
    "dtrn = minibatch(xtrn, ytrn, 100; xsize = (784,:))\n",
    "dtst = minibatch(xtst, ytst, 10000; xsize = (784,:));"
   ]
  },
  {
   "cell_type": "code",
   "execution_count": 7,
   "metadata": {},
   "outputs": [
    {
     "data": {
      "text/plain": [
       "Array{Float32,2}"
      ]
     },
     "execution_count": 7,
     "metadata": {},
     "output_type": "execute_result"
    }
   ],
   "source": [
    "typeof(ytrn)"
   ]
  },
  {
   "cell_type": "code",
   "execution_count": 8,
   "metadata": {},
   "outputs": [
    {
     "data": {
      "text/plain": [
       "loss (generic function with 1 method)"
      ]
     },
     "execution_count": 8,
     "metadata": {},
     "output_type": "execute_result"
    }
   ],
   "source": [
    "predict(w,x) = w[1]*x .+ w[2]\n",
    "\n",
    "loss(w,x,y) = 1/(2*length(y)) .* sum(abs2.(y - predict(w,x)))"
   ]
  },
  {
   "cell_type": "code",
   "execution_count": 9,
   "metadata": {},
   "outputs": [
    {
     "data": {
      "text/plain": [
       "(::AutoGrad.var\"#gradfun#7\"{AutoGrad.var\"#gradfun#6#8\"{typeof(loss),Int64,Bool}}) (generic function with 1 method)"
      ]
     },
     "execution_count": 9,
     "metadata": {},
     "output_type": "execute_result"
    }
   ],
   "source": [
    "lossgradient = grad(loss)"
   ]
  },
  {
   "cell_type": "code",
   "execution_count": 18,
   "metadata": {},
   "outputs": [
    {
     "data": {
      "text/plain": [
       "mse (generic function with 1 method)"
      ]
     },
     "execution_count": 18,
     "metadata": {},
     "output_type": "execute_result"
    }
   ],
   "source": [
    "function mse(predictions, targets)\n",
    "    N = length(targets)\n",
    "    y = 1/(2*N) * sum((predictions .- targets).^2)\n",
    "    return y\n",
    "end"
   ]
  },
  {
   "cell_type": "code",
   "execution_count": 19,
   "metadata": {},
   "outputs": [
    {
     "data": {
      "text/plain": [
       "train (generic function with 1 method)"
      ]
     },
     "execution_count": 19,
     "metadata": {},
     "output_type": "execute_result"
    }
   ],
   "source": [
    "function train(w, data; lr=.1)\n",
    "    for (x,y) in data\n",
    "        dw = lossgradient(w, x, y)\n",
    "        for i in 1:length(w)\n",
    "            w[i] -= lr * dw[i]\n",
    "        end\n",
    "    end\n",
    "    return w\n",
    "end"
   ]
  },
  {
   "cell_type": "code",
   "execution_count": 20,
   "metadata": {},
   "outputs": [],
   "source": [
    "weight = Any[randn(392,784),randn(392)]\n",
    "trainx = reshape(xtrn, (784,60000))\n",
    "testx = reshape(xtst, (784,10000))\n",
    "\n",
    "epoch = 10\n",
    "train_loss = zeros(10)\n",
    "test_loss = zeros(10)\n",
    "\n",
    "for i=1:epoch\n",
    "    train(weight, dtrn)\n",
    "    predicted_trainx = convert(Array{Float32}, weight[1]*trainx .+ weight[2])\n",
    "    predicted_testx = convert(Array{Float32}, weight[1]*testx .+ weight[2])\n",
    "    train_loss[i] = mse(predicted_trainx,ytrn)\n",
    "    test_loss[i] = mse(predicted_testx,ytst)\n",
    "end\n",
    "#predicted_data = reshape(predicted_data,(14,28,60000))"
   ]
  },
  {
   "cell_type": "code",
   "execution_count": 27,
   "metadata": {},
   "outputs": [
    {
     "name": "stdout",
     "output_type": "stream",
     "text": [
      "[8.529287074829933, 6.70241768707483, 5.569369727891157, 4.805308843537415, 4.260776190476191, 3.8530649659863947, 3.5348088435374154, 3.277861224489796, 3.0648115646258507, 2.8844333333333334]\n",
      "[8.489983673469387, 6.652029081632652, 5.516705102040816, 4.752209183673469, 4.208001785714285, 3.8009785714285713, 3.483597704081632, 3.2276285714285713, 3.015617602040816, 2.8363117346938775]\n"
     ]
    }
   ],
   "source": [
    "println(train_loss)\n",
    "println(test_loss)"
   ]
  },
  {
   "cell_type": "code",
   "execution_count": 37,
   "metadata": {},
   "outputs": [
    {
     "data": {
      "image/png": "[encoded data removed]",
      "text/plain": [
       "Figure(PyObject <Figure size 480x480 with 1 Axes>)"
      ]
     },
     "metadata": {},
     "output_type": "display_data"
    },
    {
     "data": {
      "text/plain": [
       "PyObject <matplotlib.image.AxesImage object at 0x000000003BED37C0>"
      ]
     },
     "execution_count": 37,
     "metadata": {},
     "output_type": "execute_result"
    }
   ],
   "source": [
    "#training data sample image\n",
    "true_image = train_x[:,:,19]\n",
    "matshow(true_image)"
   ]
  },
  {
   "cell_type": "code",
   "execution_count": 31,
   "metadata": {},
   "outputs": [
    {
     "data": {
      "image/png": "[encoded data removed]",
      "text/plain": [
       "Figure(PyObject <Figure size 480x480 with 1 Axes>)"
      ]
     },
     "metadata": {},
     "output_type": "display_data"
    },
    {
     "data": {
      "text/plain": [
       "PyObject <matplotlib.image.AxesImage object at 0x000000003B5C16D0>"
      ]
     },
     "execution_count": 31,
     "metadata": {},
     "output_type": "execute_result"
    }
   ],
   "source": [
    "predicted_trainx = convert(Array{Float32}, weight[1]*trainx .+ weight[2])\n",
    "predicted_data = reshape(predicted_trainx,(14,28,60000));\n",
    "\n",
    "sample = vcat(occluded_data[1:14,:,19], predicted_data[:,:,19])\n",
    "#occluded_data = occlude_data(train_x, 14)\n",
    "matshow(sample)"
   ]
  },
  {
   "cell_type": "code",
   "execution_count": 35,
   "metadata": {},
   "outputs": [
    {
     "data": {
      "text/plain": [
       "trainresults (generic function with 1 method)"
      ]
     },
     "execution_count": 35,
     "metadata": {},
     "output_type": "execute_result"
    }
   ],
   "source": [
    "# For running experiments\n",
    "function trainresults(model; o...)\n",
    "    for x in takenth(progress(sgd!(model,ncycle(dtrn,100))),length(dtrn))\n",
    "        r = (model(dtrn), model(dtst))\n",
    "    end\n",
    "    r = reshape(collect(Float32,flatten(r)),(4,:))\n",
    "    GC.gc(true) # To save gpu memory\n",
    "\n",
    "    println(minimum(r,dims=2))\n",
    "    return r\n",
    "end"
   ]
  },
  {
   "cell_type": "code",
   "execution_count": 32,
   "metadata": {},
   "outputs": [],
   "source": [
    "# Let's define a chain of layers\n",
    "struct Chain\n",
    "    layers\n",
    "    Chain(layers...) = new(layers)\n",
    "end\n",
    "(c::Chain)(x) = (for l in c.layers; x = l(x); end; x)\n",
    "(c::Chain)(x,y) = mse(c(x),y)\n",
    "(c::Chain)(d::Data) = mean(c(x,y) for (x,y) in d)\n",
    "\n",
    "# Using nonlinearities between layers results in a model with higher capacity and helps underfitting\n",
    "# relu(x)=max(0,x) is a popular function used for this purpose, it replaces all negative values with zeros.\n",
    "struct Layer; w; b; f; end\n",
    "Layer(i::Int,o::Int,f=sigm) = Layer(randn(o,i),randn(o),f)\n",
    "(l::Layer)(x) = l.f.(l.w * x .+ l.b)\n"
   ]
  },
  {
   "cell_type": "code",
   "execution_count": null,
   "metadata": {},
   "outputs": [],
   "source": [
    "@doc nll"
   ]
  },
  {
   "cell_type": "code",
   "execution_count": null,
   "metadata": {},
   "outputs": [],
   "source": []
  }
 ],
 "metadata": {
  "kernelspec": {
   "display_name": "Julia 1.5.2",
   "language": "julia",
   "name": "julia-1.5"
  },
  "language_info": {
   "file_extension": ".jl",
   "mimetype": "application/julia",
   "name": "julia",
   "version": "1.5.2"
  }
 },
 "nbformat": 4,
 "nbformat_minor": 4
}
