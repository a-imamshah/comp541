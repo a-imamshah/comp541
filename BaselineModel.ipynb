{
 "cells": [
  {
   "cell_type": "code",
   "execution_count": 63,
   "metadata": {},
   "outputs": [
    {
     "name": "stderr",
     "output_type": "stream",
     "text": [
      "\u001b[32m\u001b[1m  Resolving\u001b[22m\u001b[39m package versions...\n",
      "\u001b[32m\u001b[1mNo Changes\u001b[22m\u001b[39m to `C:\\Users\\Ahmed Imam Shah\\.julia\\environments\\v1.5\\Project.toml`\n",
      "\u001b[32m\u001b[1mNo Changes\u001b[22m\u001b[39m to `C:\\Users\\Ahmed Imam Shah\\.julia\\environments\\v1.5\\Manifest.toml`\n",
      "\u001b[32m\u001b[1m  Resolving\u001b[22m\u001b[39m package versions...\n",
      "\u001b[32m\u001b[1m  Installed\u001b[22m\u001b[39m PyPlot ─ v2.9.0\n",
      "\u001b[32m\u001b[1m  Installed\u001b[22m\u001b[39m PyCall ─ v1.92.1\n",
      "\u001b[32m\u001b[1mUpdating\u001b[22m\u001b[39m `C:\\Users\\Ahmed Imam Shah\\.julia\\environments\\v1.5\\Project.toml`\n",
      " \u001b[90m [d330b81b] \u001b[39m\u001b[92m+ PyPlot v2.9.0\u001b[39m\n",
      "\u001b[32m\u001b[1mUpdating\u001b[22m\u001b[39m `C:\\Users\\Ahmed Imam Shah\\.julia\\environments\\v1.5\\Manifest.toml`\n",
      " \u001b[90m [438e738f] \u001b[39m\u001b[92m+ PyCall v1.92.1\u001b[39m\n",
      " \u001b[90m [d330b81b] \u001b[39m\u001b[92m+ PyPlot v2.9.0\u001b[39m\n",
      "\u001b[32m\u001b[1m   Building\u001b[22m\u001b[39m PyCall → `C:\\Users\\Ahmed Imam Shah\\.julia\\packages\\PyCall\\BcTLp\\deps\\build.log`\n",
      "┌ Info: Precompiling PyPlot [d330b81b-6aea-500a-939a-2ce795aea3ee]\n",
      "└ @ Base loading.jl:1278\n",
      "┌ Info: Installing matplotlib via the Conda matplotlib package...\n",
      "└ @ PyCall C:\\Users\\Ahmed Imam Shah\\.julia\\packages\\PyCall\\BcTLp\\src\\PyCall.jl:708\n",
      "┌ Info: Running `conda install -y matplotlib` in root environment\n",
      "└ @ Conda C:\\Users\\Ahmed Imam Shah\\.julia\\packages\\Conda\\3rPhK\\src\\Conda.jl:113\n"
     ]
    },
    {
     "name": "stdout",
     "output_type": "stream",
     "text": [
      "Collecting package metadata (current_repodata.json): ...working... done\n",
      "Solving environment: ...working... done\n",
      "\n",
      "## Package Plan ##\n",
      "\n",
      "  environment location: C:\\Users\\Ahmed Imam Shah\\.julia\\conda\\3\n",
      "\n",
      "  added / updated specs:\n",
      "    - matplotlib\n",
      "\n",
      "\n",
      "The following packages will be downloaded:\n",
      "\n",
      "    package                    |            build\n",
      "    ---------------------------|-----------------\n",
      "    cycler-0.10.0              |           py38_0          14 KB\n",
      "    freetype-2.10.4            |       hd328e21_0         466 KB\n",
      "    kiwisolver-1.3.0           |   py38hd77b12b_0          78 KB\n",
      "    libtiff-4.1.0              |       h56a325e_1         739 KB\n",
      "    lz4-c-1.9.2                |       hf4a77e7_3         106 KB\n",
      "    matplotlib-3.3.2           |                0          25 KB\n",
      "    matplotlib-base-3.3.2      |   py38hba9282a_0         5.1 MB\n",
      "    olefile-0.46               |             py_0          33 KB\n",
      "    pillow-8.0.1               |   py38h4fa10fc_0         690 KB\n",
      "    tk-8.6.10                  |       he774522_0         2.7 MB\n",
      "    xz-5.2.5                   |       h62dcd97_0         244 KB\n",
      "    zstd-1.4.5                 |       h04227a9_0         456 KB\n",
      "    ------------------------------------------------------------\n",
      "                                           Total:        10.5 MB\n",
      "\n",
      "The following NEW packages will be INSTALLED:\n",
      "\n",
      "  cycler             pkgs/main/win-64::cycler-0.10.0-py38_0\n",
      "  freetype           pkgs/main/win-64::freetype-2.10.4-hd328e21_0\n",
      "  kiwisolver         pkgs/main/win-64::kiwisolver-1.3.0-py38hd77b12b_0\n",
      "  libtiff            pkgs/main/win-64::libtiff-4.1.0-h56a325e_1\n",
      "  lz4-c              pkgs/main/win-64::lz4-c-1.9.2-hf4a77e7_3\n",
      "  matplotlib         pkgs/main/win-64::matplotlib-3.3.2-0\n",
      "  matplotlib-base    pkgs/main/win-64::matplotlib-base-3.3.2-py38hba9282a_0\n",
      "  olefile            pkgs/main/noarch::olefile-0.46-py_0\n",
      "  pillow             pkgs/main/win-64::pillow-8.0.1-py38h4fa10fc_0\n",
      "  tk                 pkgs/main/win-64::tk-8.6.10-he774522_0\n",
      "  xz                 pkgs/main/win-64::xz-5.2.5-h62dcd97_0\n",
      "  zstd               pkgs/main/win-64::zstd-1.4.5-h04227a9_0\n",
      "\n",
      "\n",
      "\n",
      "Downloading and Extracting Packages\n",
      "libtiff-4.1.0        | 739 KB    | ########## | 100% \n",
      "freetype-2.10.4      | 466 KB    | ########## | 100% \n",
      "xz-5.2.5             | 244 KB    | ########## | 100% \n",
      "kiwisolver-1.3.0     | 78 KB     | ########## | 100% \n",
      "pillow-8.0.1         | 690 KB    | ########## | 100% \n",
      "lz4-c-1.9.2          | 106 KB    | ########## | 100% \n",
      "cycler-0.10.0        | 14 KB     | ########## | 100% \n",
      "matplotlib-3.3.2     | 25 KB     | ########## | 100% \n",
      "tk-8.6.10            | 2.7 MB    | ########## | 100% \n",
      "zstd-1.4.5           | 456 KB    | ########## | 100% \n",
      "matplotlib-base-3.3. | 5.1 MB    | ########## | 100% \n",
      "olefile-0.46         | 33 KB     | ########## | 100% \n",
      "Preparing transaction: ...working... done\n",
      "Verifying transaction: ...working... done\n",
      "Executing transaction: ...working... done\n"
     ]
    },
    {
     "name": "stderr",
     "output_type": "stream",
     "text": [
      "Matplotlib is building the font cache; this may take a moment.\r\n",
      "WARNING: using PyPlot.imshow in module Main conflicts with an existing identifier.\n"
     ]
    }
   ],
   "source": [
    "using Pkg; for p in [\"MLDatasets\"]; Pkg.add(p); end\n",
    "import Pkg; Pkg.add(\"PyPlot\")\n",
    "using PyPlot\n",
    "using Printf, Random, Test, Statistics\n",
    "using MLDatasets\n",
    "using Knet\n",
    "import Base: length, size, iterate, eltype, IteratorSize, IteratorEltype, haslength, @propagate_inbounds, repeat, rand, tail\n",
    "import .Iterators: cycle, Cycle, take\n",
    "using Plots; default(fmt=:png,ls=:auto)"
   ]
  },
  {
   "cell_type": "code",
   "execution_count": 26,
   "metadata": {},
   "outputs": [
    {
     "data": {
      "text/plain": [
       "((28, 28, 60000), (60000,), (28, 28, 10000), (10000,))"
      ]
     },
     "execution_count": 26,
     "metadata": {},
     "output_type": "execute_result"
    }
   ],
   "source": [
    "# load full training set\n",
    "train_x, train_y = MNIST.traindata();\n",
    "\n",
    "# load full test set\n",
    "test_x,  test_y  = MNIST.testdata();\n",
    "\n",
    "size(train_x), size(train_y), size(test_x), size(test_y)"
   ]
  },
  {
   "cell_type": "code",
   "execution_count": 31,
   "metadata": {},
   "outputs": [],
   "source": [
    "struct MnistData\n",
    "    x\n",
    "    y\n",
    "    batchsize::Int\n",
    "    shuffle::Bool\n",
    "    num_instances::Int\n",
    "\n",
    "    function MnistData(x, y; batchsize::Int=100, shuffle::Bool=false, dtype::Type=Array{Float64})\n",
    "        # Your code here\n",
    "        \n",
    "        batch_x::dtype = x\n",
    "        batch_y::dtype = y\n",
    "        \n",
    "        new(batch_x,batch_y, batchsize, shuffle, length(y))\n",
    "    end\n",
    "end\n"
   ]
  },
  {
   "cell_type": "code",
   "execution_count": 32,
   "metadata": {},
   "outputs": [
    {
     "data": {
      "text/plain": [
       "Base.length"
      ]
     },
     "execution_count": 32,
     "metadata": {},
     "output_type": "execute_result"
    }
   ],
   "source": [
    "\"\"\"\n",
    "    length(d::MnistData)\n",
    "\n",
    "Return how many minibatches dataset `d` has.\n",
    "\"\"\"\n",
    "function length(d::MnistData)\n",
    "    # Your code here\n",
    "    quotient, remainder = divrem(d.num_instances, d.batchsize)\n",
    "    if remainder>0\n",
    "        return quotient + 1\n",
    "    else\n",
    "        return quotient\n",
    "    end\n",
    "end\n"
   ]
  },
  {
   "cell_type": "code",
   "execution_count": 37,
   "metadata": {},
   "outputs": [
    {
     "data": {
      "text/plain": [
       "Base.iterate"
      ]
     },
     "execution_count": 37,
     "metadata": {},
     "output_type": "execute_result"
    }
   ],
   "source": [
    "\"\"\"\n",
    "    iterate(d::MnistData[, state])\n",
    "\n",
    "Iterate over `d::MnistData` object. If `state` is missing, it's the beginning\n",
    "of the whole iteration process.\n",
    "\"\"\"\n",
    "function iterate(d::MnistData, state=ifelse(\n",
    "    d.shuffle, randperm(d.num_instances), collect(1:d.num_instances)))\n",
    "    # Your code here\n",
    "    \n",
    "    if length(state) > 0 \n",
    "        \n",
    "        if length(state) >= d.batchsize\n",
    "            batch_x = d.x[:,:, state[1:d.batchsize]]\n",
    "            batch_y = d.y[:, state[1:d.batchsize]]\n",
    "        else\n",
    "            batch_x = d.x[:,:, state[1:end]]\n",
    "            batch_y = d.y[:, state[1:end]]\n",
    "\n",
    "        end\n",
    "        state = state[d.batchsize+1:end]\n",
    "        return (batch_x, batch_y), state\n",
    "    end\n",
    "    \n",
    "end"
   ]
  },
  {
   "cell_type": "code",
   "execution_count": 102,
   "metadata": {},
   "outputs": [
    {
     "data": {
      "image/png": "[encoded data removed]",
      "text/plain": [
       "Figure(PyObject <Figure size 480x480 with 1 Axes>)"
      ]
     },
     "metadata": {},
     "output_type": "display_data"
    },
    {
     "data": {
      "text/plain": [
       "PyObject <matplotlib.image.AxesImage object at 0x000000005A6DB9A0>"
      ]
     },
     "execution_count": 102,
     "metadata": {},
     "output_type": "execute_result"
    }
   ],
   "source": [
    "\"\"\"\n",
    "    predictPixel(image)\n",
    "\n",
    "predicts the value of the pixel based on the previous pixel values\n",
    "The pixels in the input image given as the parameter will be used to predict the pixel.\n",
    "This function will return the probabilities of the functions that will be used to calculate the loss.\n",
    "\"\"\"\n",
    "function predictPixel(image, i, j)\n",
    "    random_index = rand(1:60000,size(image));\n",
    "    randPixel = train_x[i,j,random_index[i,j]]\n",
    "end\n",
    "\n",
    "\"\"\"\n",
    "    generateImage()\n",
    "\n",
    "uses `predictPixel` function recursively to generate entire image.\n",
    "\n",
    "\"\"\"\n",
    "function generateImage()\n",
    "    img = zeros(28,28);\n",
    "    for i in 1:28\n",
    "        for j in 1:28\n",
    "            img[i,j] = predictPixel(img, i, j)\n",
    "        end\n",
    "    end\n",
    "    return img;\n",
    "end\n",
    "\n",
    "Knet.seed!(2)\n",
    "image=generateImage()\n",
    "\n",
    "matshow(image)"
   ]
  },
  {
   "cell_type": "code",
   "execution_count": 104,
   "metadata": {},
   "outputs": [
    {
     "data": {
      "text/plain": [
       "3×3×1×1 Array{Float64,4}:\n",
       "[:, :, 1, 1] =\n",
       " 1.0  1.0  1.0\n",
       " 1.0  0.0  0.0\n",
       " 0.0  0.0  0.0"
      ]
     },
     "execution_count": 104,
     "metadata": {},
     "output_type": "execute_result"
    }
   ],
   "source": [
    "mask3 = reshape([1.0,1.0,0,1.0,0,0,1,0,0],(3,3,1,1))"
   ]
  },
  {
   "cell_type": "code",
   "execution_count": 71,
   "metadata": {},
   "outputs": [
    {
     "data": {
      "image/png": "[encoded data removed]",
      "text/plain": [
       "Figure(PyObject <Figure size 480x480 with 1 Axes>)"
      ]
     },
     "metadata": {},
     "output_type": "display_data"
    },
    {
     "data": {
      "text/plain": [
       "PyObject <matplotlib.image.AxesImage object at 0x00000000617FC130>"
      ]
     },
     "execution_count": 71,
     "metadata": {},
     "output_type": "execute_result"
    }
   ],
   "source": [
    "#training data sample image\n",
    "true_image = train_x[:,:,1]\n",
    "matshow(true_image)"
   ]
  },
  {
   "cell_type": "code",
   "execution_count": 80,
   "metadata": {},
   "outputs": [
    {
     "data": {
      "text/plain": [
       "softloss (generic function with 1 method)"
      ]
     },
     "execution_count": 80,
     "metadata": {},
     "output_type": "execute_result"
    }
   ],
   "source": [
    "function softloss(ygold, ypred)\n",
    "    ynorm = ypred .- log.(sum(exp(ypred),dims=1))\n",
    "    -sum(ygold .* ynorm) / size(ygold,2)\n",
    "end"
   ]
  },
  {
   "cell_type": "code",
   "execution_count": 81,
   "metadata": {},
   "outputs": [
    {
     "data": {
      "text/plain": [
       "15.747331824910194"
      ]
     },
     "execution_count": 81,
     "metadata": {},
     "output_type": "execute_result"
    }
   ],
   "source": [
    "softloss(true_image, image)"
   ]
  },
  {
   "cell_type": "code",
   "execution_count": 39,
   "metadata": {},
   "outputs": [
    {
     "data": {
      "text/plain": [
       "\u001b[32m\u001b[1mTest Passed\u001b[22m\u001b[39m"
      ]
     },
     "execution_count": 39,
     "metadata": {},
     "output_type": "execute_result"
    }
   ],
   "source": [
    "obj1 = MnistData(train_x, train_y; batchsize=5000, dtype=Array{Float32}, shuffle=true)\n",
    "@test obj1.shuffle == true\n",
    "@test typeof(obj1.x) <: Array{Float32}\n",
    "@test typeof(obj1.y) <: Array{Float32}\n",
    "@test obj1.batchsize == 5000\n",
    "@test obj1.num_instances == 60000"
   ]
  },
  {
   "cell_type": "code",
   "execution_count": 82,
   "metadata": {},
   "outputs": [
    {
     "data": {
      "text/latex": [
       "\\begin{verbatim}\n",
       "nll(scores, labels; dims=1, average=true)\n",
       "\\end{verbatim}\n",
       "Return the negative log likelihood for a single batch of data given an unnormalized \\texttt{scores} matrix and an \\texttt{Integer} array of correct \\texttt{labels}. The \\texttt{scores} matrix should have size \\texttt{(classes,instances)} if \\texttt{dims=1} or \\texttt{(instances,classes)} if \\texttt{dims=2}. \\texttt{labels[i]} should be in \\texttt{1:classes} to indicate the correct class for instance i, or 0 to skip instance i.\n",
       "\n",
       "The return value is \\texttt{(total/count)} if \\texttt{average=true} and \\texttt{(total,count)} if \\texttt{average=false} where \\texttt{count} is the number of instances not skipped (i.e. \\texttt{label != 0}) and \\texttt{total} is their total negative log likelihood.\n",
       "\n",
       "\\subsection{Example}\n",
       "Let's assume that there are three classes (cat, dog, ostrich) and just 2 instances with the unnormalized score \\texttt{scores[:,1]} and \\texttt{scores[:,2]} respectively. The first instance is actually a cat and the second instance a dog:\n",
       "\n",
       "\\begin{verbatim}\n",
       "scores = [12.2    0.3;\n",
       "           2.0   21.5;\n",
       "           0.0  -21.0]\n",
       "labels = [1, 2]\n",
       "nll(scores,labels)\n",
       "# returns 2.1657e-5\n",
       "\\end{verbatim}\n",
       "The probabilites are derived from the scores and the negative log-probabilities corresponding to the labels are averaged:\n",
       "\n",
       "\\begin{verbatim}\n",
       "probabilites = exp.(scores) ./ sum(exp.(scores),dims=1)\n",
       "-(log(probabilites[labels[1],1]) + log(probabilites[labels[2],2]))/2\n",
       "# returns 2.1657e-5\n",
       "\\end{verbatim}\n",
       "\\begin{verbatim}\n",
       "nll(model; data, dims=1, average=true, o...)\n",
       "\\end{verbatim}\n",
       "Compute the negative log likelihood for a model over a dataset:\n",
       "\n",
       "\\begin{verbatim}\n",
       "nll(model(inputs; kwargs...), labels; dims) for (inputs,labels) in data\n",
       "\\end{verbatim}\n",
       "and return \\texttt{(total/count)} if \\texttt{average=true} or \\texttt{(total,count)} if \\texttt{average=false} where \\texttt{count} is the number of instances not skipped (instances with \\texttt{label==0} are skipped) and \\texttt{total} is their total negative log likelihood.\n",
       "\n",
       "The \\texttt{model} should be a function returning scores given inputs, and data should be an iterable of \\texttt{(inputs,labels)} pairs. The valid labels should be integers in the range \\texttt{1:numclasses}, if \\texttt{labels[i] == 0}, instance i is skipped.\n",
       "\n"
      ],
      "text/markdown": [
       "```\n",
       "nll(scores, labels; dims=1, average=true)\n",
       "```\n",
       "\n",
       "Return the negative log likelihood for a single batch of data given an unnormalized `scores` matrix and an `Integer` array of correct `labels`. The `scores` matrix should have size `(classes,instances)` if `dims=1` or `(instances,classes)` if `dims=2`. `labels[i]` should be in `1:classes` to indicate the correct class for instance i, or 0 to skip instance i.\n",
       "\n",
       "The return value is `(total/count)` if `average=true` and `(total,count)` if `average=false` where `count` is the number of instances not skipped (i.e. `label != 0`) and `total` is their total negative log likelihood.\n",
       "\n",
       "## Example\n",
       "\n",
       "Let's assume that there are three classes (cat, dog, ostrich) and just 2 instances with the unnormalized score `scores[:,1]` and `scores[:,2]` respectively. The first instance is actually a cat and the second instance a dog:\n",
       "\n",
       "```\n",
       "scores = [12.2    0.3;\n",
       "           2.0   21.5;\n",
       "           0.0  -21.0]\n",
       "labels = [1, 2]\n",
       "nll(scores,labels)\n",
       "# returns 2.1657e-5\n",
       "```\n",
       "\n",
       "The probabilites are derived from the scores and the negative log-probabilities corresponding to the labels are averaged:\n",
       "\n",
       "```\n",
       "probabilites = exp.(scores) ./ sum(exp.(scores),dims=1)\n",
       "-(log(probabilites[labels[1],1]) + log(probabilites[labels[2],2]))/2\n",
       "# returns 2.1657e-5\n",
       "```\n",
       "\n",
       "```\n",
       "nll(model; data, dims=1, average=true, o...)\n",
       "```\n",
       "\n",
       "Compute the negative log likelihood for a model over a dataset:\n",
       "\n",
       "```\n",
       "nll(model(inputs; kwargs...), labels; dims) for (inputs,labels) in data\n",
       "```\n",
       "\n",
       "and return `(total/count)` if `average=true` or `(total,count)` if `average=false` where `count` is the number of instances not skipped (instances with `label==0` are skipped) and `total` is their total negative log likelihood.\n",
       "\n",
       "The `model` should be a function returning scores given inputs, and data should be an iterable of `(inputs,labels)` pairs. The valid labels should be integers in the range `1:numclasses`, if `labels[i] == 0`, instance i is skipped.\n"
      ],
      "text/plain": [
       "\u001b[36m  nll(scores, labels; dims=1, average=true)\u001b[39m\n",
       "\n",
       "  Return the negative log likelihood for a single batch of data given an\n",
       "  unnormalized \u001b[36mscores\u001b[39m matrix and an \u001b[36mInteger\u001b[39m array of correct \u001b[36mlabels\u001b[39m. The\n",
       "  \u001b[36mscores\u001b[39m matrix should have size \u001b[36m(classes,instances)\u001b[39m if \u001b[36mdims=1\u001b[39m or\n",
       "  \u001b[36m(instances,classes)\u001b[39m if \u001b[36mdims=2\u001b[39m. \u001b[36mlabels[i]\u001b[39m should be in \u001b[36m1:classes\u001b[39m to indicate\n",
       "  the correct class for instance i, or 0 to skip instance i.\n",
       "\n",
       "  The return value is \u001b[36m(total/count)\u001b[39m if \u001b[36maverage=true\u001b[39m and \u001b[36m(total,count)\u001b[39m if\n",
       "  \u001b[36maverage=false\u001b[39m where \u001b[36mcount\u001b[39m is the number of instances not skipped (i.e. \u001b[36mlabel\n",
       "  != 0\u001b[39m) and \u001b[36mtotal\u001b[39m is their total negative log likelihood.\n",
       "\n",
       "\u001b[1m  Example\u001b[22m\n",
       "\u001b[1m  =========\u001b[22m\n",
       "\n",
       "  Let's assume that there are three classes (cat, dog, ostrich) and just 2\n",
       "  instances with the unnormalized score \u001b[36mscores[:,1]\u001b[39m and \u001b[36mscores[:,2]\u001b[39m\n",
       "  respectively. The first instance is actually a cat and the second instance a\n",
       "  dog:\n",
       "\n",
       "\u001b[36m  scores = [12.2    0.3;\u001b[39m\n",
       "\u001b[36m             2.0   21.5;\u001b[39m\n",
       "\u001b[36m             0.0  -21.0]\u001b[39m\n",
       "\u001b[36m  labels = [1, 2]\u001b[39m\n",
       "\u001b[36m  nll(scores,labels)\u001b[39m\n",
       "\u001b[36m  # returns 2.1657e-5\u001b[39m\n",
       "\n",
       "  The probabilites are derived from the scores and the negative\n",
       "  log-probabilities corresponding to the labels are averaged:\n",
       "\n",
       "\u001b[36m  probabilites = exp.(scores) ./ sum(exp.(scores),dims=1)\u001b[39m\n",
       "\u001b[36m  -(log(probabilites[labels[1],1]) + log(probabilites[labels[2],2]))/2\u001b[39m\n",
       "\u001b[36m  # returns 2.1657e-5\u001b[39m\n",
       "\n",
       "\u001b[36m  nll(model; data, dims=1, average=true, o...)\u001b[39m\n",
       "\n",
       "  Compute the negative log likelihood for a model over a dataset:\n",
       "\n",
       "\u001b[36m  nll(model(inputs; kwargs...), labels; dims) for (inputs,labels) in data\u001b[39m\n",
       "\n",
       "  and return \u001b[36m(total/count)\u001b[39m if \u001b[36maverage=true\u001b[39m or \u001b[36m(total,count)\u001b[39m if \u001b[36maverage=false\u001b[39m\n",
       "  where \u001b[36mcount\u001b[39m is the number of instances not skipped (instances with \u001b[36mlabel==0\u001b[39m\n",
       "  are skipped) and \u001b[36mtotal\u001b[39m is their total negative log likelihood.\n",
       "\n",
       "  The \u001b[36mmodel\u001b[39m should be a function returning scores given inputs, and data\n",
       "  should be an iterable of \u001b[36m(inputs,labels)\u001b[39m pairs. The valid labels should be\n",
       "  integers in the range \u001b[36m1:numclasses\u001b[39m, if \u001b[36mlabels[i] == 0\u001b[39m, instance i is\n",
       "  skipped."
      ]
     },
     "execution_count": 82,
     "metadata": {},
     "output_type": "execute_result"
    }
   ],
   "source": [
    "@doc nll"
   ]
  },
  {
   "cell_type": "code",
   "execution_count": null,
   "metadata": {},
   "outputs": [],
   "source": []
  }
 ],
 "metadata": {
  "kernelspec": {
   "display_name": "Julia 1.5.2",
   "language": "julia",
   "name": "julia-1.5"
  },
  "language_info": {
   "file_extension": ".jl",
   "mimetype": "application/julia",
   "name": "julia",
   "version": "1.5.2"
  }
 },
 "nbformat": 4,
 "nbformat_minor": 4
}
