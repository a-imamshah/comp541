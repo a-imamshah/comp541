{
 "cells": [
  {
   "cell_type": "code",
   "execution_count": 1,
   "metadata": {},
   "outputs": [
    {
     "name": "stderr",
     "output_type": "stream",
     "text": [
      "\u001b[32m\u001b[1m   Updating\u001b[22m\u001b[39m registry at `~/.julia/registries/General`\n",
      "######################################################################### 100.0%\n",
      "\u001b[32m\u001b[1m  Resolving\u001b[22m\u001b[39m package versions...\n",
      "\u001b[32m\u001b[1mNo Changes\u001b[22m\u001b[39m to `/scratch/users/ashah20/.julia/environments/v1.5/Project.toml`\n",
      "\u001b[32m\u001b[1mNo Changes\u001b[22m\u001b[39m to `/scratch/users/ashah20/.julia/environments/v1.5/Manifest.toml`\n",
      "\u001b[32m\u001b[1m  Resolving\u001b[22m\u001b[39m package versions...\n",
      "\u001b[32m\u001b[1mNo Changes\u001b[22m\u001b[39m to `/scratch/users/ashah20/.julia/environments/v1.5/Project.toml`\n",
      "\u001b[32m\u001b[1mNo Changes\u001b[22m\u001b[39m to `/scratch/users/ashah20/.julia/environments/v1.5/Manifest.toml`\n"
     ]
    }
   ],
   "source": [
    "import Pkg; Pkg.add(\"MLDatasets\")\n",
    "Pkg.add(\"CUDA\")\n",
    "using Printf, Random, Test, Statistics\n",
    "using MLDatasets\n",
    "using Knet\n",
    "import Base: length, size, iterate, eltype, IteratorSize, IteratorEltype, haslength, @propagate_inbounds, repeat, rand, tail\n",
    "import .Iterators: cycle, Cycle, take\n",
    "import CUDA # functional\n",
    "array_type=(CUDA.functional() ? KnetArray{Float32} : Array{Float32})\n",
    "using Knet: Knet, dir, accuracy, progress, sgd, gc, Param, KnetArray, Data, minibatch, nll, relu, training, dropout, sigm # param, param0, xavier_uniform\n",
    "#using IterTools: ncycle, takenth\n",
    "#using Base.Iterators: flatten\n",
    "using JLD2, FileIO"
   ]
  },
  {
   "cell_type": "code",
   "execution_count": 2,
   "metadata": {},
   "outputs": [
    {
     "data": {
      "text/plain": [
       "((32, 32, 3, 50000), (50000,), (32, 32, 3, 10000), (10000,))"
      ]
     },
     "execution_count": 2,
     "metadata": {},
     "output_type": "execute_result"
    }
   ],
   "source": [
    "# load full training set\n",
    "train_x, train_y = CIFAR10.traindata()\n",
    "\n",
    "# load full test set\n",
    "test_x,  test_y  = CIFAR10.testdata()\n",
    "\n",
    "size(train_x), size(train_y), size(test_x), size(test_y)"
   ]
  },
  {
   "cell_type": "code",
   "execution_count": 3,
   "metadata": {},
   "outputs": [
    {
     "name": "stdout",
     "output_type": "stream",
     "text": [
      "Effective GPU memory usage: 0.95% (308.750 MiB/31.749 GiB)\n",
      "CUDA allocator usage: 0 bytes\n",
      "binned usage: 0 bytes (0 bytes allocated, 0 bytes cached)\n"
     ]
    }
   ],
   "source": [
    "CUDA.reclaim()\n",
    "CUDA.memory_status()"
   ]
  },
  {
   "cell_type": "code",
   "execution_count": 4,
   "metadata": {},
   "outputs": [
    {
     "data": {
      "text/plain": [
       "discretize (generic function with 1 method)"
      ]
     },
     "execution_count": 4,
     "metadata": {},
     "output_type": "execute_result"
    }
   ],
   "source": [
    "\"\"\"\n",
    "    occlude(image, n_rows)\n",
    "\n",
    "Creates occluded image by assigning zeros to image rows - n_rows\n",
    "\"\"\"\n",
    "function occlude(image, n_rows)\n",
    "    i_size = size(image)\n",
    "    zero = zeros(i_size[1]-n_rows, i_size[2], i_size[3])\n",
    "    occluded = vcat(image[1:n_rows,:,:], zero)\n",
    "    return occluded\n",
    "end\n",
    "\n",
    "function occlude_data(data, n_rows)\n",
    "    i_size = size(data)\n",
    "    zero = zeros(i_size[1]-n_rows, i_size[2], i_size[3])\n",
    "    occluded_data = vcat(data[1:n_rows,:,:], zero)\n",
    "    return occluded_data\n",
    "end\n",
    "\n",
    "function discretize(data)\n",
    "    data = data .* 255\n",
    "    data = ceil.(data)\n",
    "end\n"
   ]
  },
  {
   "cell_type": "code",
   "execution_count": 5,
   "metadata": {},
   "outputs": [
    {
     "data": {
      "text/plain": [
       "ConvA"
      ]
     },
     "execution_count": 5,
     "metadata": {},
     "output_type": "execute_result"
    }
   ],
   "source": [
    "struct ConvA\n",
    "    w\n",
    "    b\n",
    "    f\n",
    "    p \n",
    "end\n",
    "\n",
    "function (c::ConvA)(x)\n",
    "    return c.f.(conv4(c.w, dropout(x,c.p), padding = 0) .+ c.b)\n",
    "end\n",
    "\n",
    "function ConvA(w1::Int,w2::Int,cx::Int,cy::Int,f=relu;pdrop=0)\n",
    "    atype=KnetArray{Float32}\n",
    "    w = (atype(ones(w1,w2,cx,cy)))\n",
    "    w[5:7,:,:,:] .= 0\n",
    "    w[4,4:7,:,:] .= 0\n",
    "    w = Param(w)\n",
    "    return ConvA(w, param0(1,1,cy,1, atype=KnetArray{Float32}), f, pdrop)\n",
    "end\n"
   ]
  },
  {
   "cell_type": "code",
   "execution_count": 6,
   "metadata": {},
   "outputs": [
    {
     "data": {
      "text/plain": [
       "ConvB"
      ]
     },
     "execution_count": 6,
     "metadata": {},
     "output_type": "execute_result"
    }
   ],
   "source": [
    "# Define a convolutional layer:\n",
    "\n",
    "struct ConvB\n",
    "    w\n",
    "    b\n",
    "    f\n",
    "    p\n",
    "    pad\n",
    "end\n",
    "\n",
    "function (c::ConvB)(x)\n",
    "    return c.f.(conv4(c.w, dropout(x,c.p), padding = c.pad) .+ c.b)\n",
    "end\n",
    "\n",
    "function ConvB(w1::Int,w2::Int,cx::Int,cy::Int,f=relu;pdrop=0, pad=1)\n",
    "    return ConvB(param(w1,w2,cx,cy, atype=KnetArray{Float32}), param0(1,1,cy,1, atype=KnetArray{Float32}), f, pdrop, pad)\n",
    "end\n"
   ]
  },
  {
   "cell_type": "code",
   "execution_count": 7,
   "metadata": {},
   "outputs": [],
   "source": [
    "struct ResBlock\n",
    "    convlayers\n",
    "    ResBlock(convlayers...) = new(convlayers)\n",
    "end\n",
    "\n",
    "function (res::ResBlock)(x)\n",
    "    xres = copy(x)\n",
    "    \n",
    "    for l in res.convlayers\n",
    "        x = l(x)\n",
    "    end\n",
    "   \n",
    "    return x .+ xres\n",
    "end\n"
   ]
  },
  {
   "cell_type": "code",
   "execution_count": 8,
   "metadata": {},
   "outputs": [],
   "source": [
    "# Let's define a chain of layers\n",
    "struct Chain\n",
    "    layers\n",
    "    Chain(layers...) = new(layers)\n",
    "end\n",
    "(c::Chain)(x) = (for l in c.layers; x = l(x); end; x)\n",
    "(c::Chain)(x,y) = nll(c(x),y)\n",
    "(c::Chain)(d::Data) = mean(c(x,y) for (x,y) in d)"
   ]
  },
  {
   "cell_type": "code",
   "execution_count": 9,
   "metadata": {},
   "outputs": [
    {
     "data": {
      "text/plain": [
       "pad (generic function with 3 methods)"
      ]
     },
     "execution_count": 9,
     "metadata": {},
     "output_type": "execute_result"
    }
   ],
   "source": [
    "function padImage(image, padding=1, constant=0)\n",
    "    row, col, chnl = size(image)\n",
    "    pad1 = ones(padding, col, chnl) .* constant\n",
    "    pad2 = ones(padding*2+row, padding, chnl) .* constant\n",
    "    padded = vcat(pad1, image, pad1)\n",
    "    padded = hcat(pad2, padded, pad2)\n",
    "    return padded\n",
    "end\n",
    "\n",
    "function pad(data, padding=1, constant=0)\n",
    "    row, col, chnl, dsize = size(data)\n",
    "    padded = zeros(row+padding*2, col+padding*2, chnl, dsize)\n",
    "    for i in 1:dsize\n",
    "        padded[:,:,:,i] .= padImage(data[:,:,:,i], padding, constant)\n",
    "    end\n",
    "    return padded\n",
    "end"
   ]
  },
  {
   "cell_type": "code",
   "execution_count": 10,
   "metadata": {},
   "outputs": [],
   "source": [
    "atype=KnetArray{Float32}\n",
    "small_data = train_x[:,:,:,1:50000];\n",
    "disc_data = discretize(small_data)\n",
    "small_data = pad(small_data, 3, 0.01)\n",
    "small_data = atype(small_data);\n",
    "\n",
    "lbls = reshape(disc_data[:,:,:,1:50000], (3072,50000));\n",
    "lbls = Int64.(lbls);"
   ]
  },
  {
   "cell_type": "code",
   "execution_count": 11,
   "metadata": {},
   "outputs": [
    {
     "data": {
      "text/plain": [
       "(38, 38, 3, 50000)"
      ]
     },
     "execution_count": 11,
     "metadata": {},
     "output_type": "execute_result"
    }
   ],
   "source": [
    "size(small_data)"
   ]
  },
  {
   "cell_type": "code",
   "execution_count": 12,
   "metadata": {},
   "outputs": [
    {
     "data": {
      "text/plain": [
       "lossfunc (generic function with 1 method)"
      ]
     },
     "execution_count": 12,
     "metadata": {},
     "output_type": "execute_result"
    }
   ],
   "source": [
    "function lossfunc(model, images, lbls)\n",
    "    loss = 0.0\n",
    "    score = model(images)\n",
    "    #println(sum.(score))\n",
    "    scores = reshape(score, (3072,256, :));\n",
    "    #println(score)\n",
    "\n",
    "    for i in 1:50\n",
    "        loss += nll(scores[:,:,i], lbls[:,i], dims=2)\n",
    "    end\n",
    "\n",
    "    return loss /= 50\n",
    "    \n",
    "end"
   ]
  },
  {
   "cell_type": "code",
   "execution_count": 13,
   "metadata": {},
   "outputs": [
    {
     "data": {
      "text/plain": [
       "trainmodel (generic function with 1 method)"
      ]
     },
     "execution_count": 13,
     "metadata": {},
     "output_type": "execute_result"
    }
   ],
   "source": [
    "function trainmodel(model, images, lbls)\n",
    "    L = @diff lossfunc(model, images, lbls)\n",
    "    \n",
    "    for p in params(model)\n",
    "        g = grad(L, p)\n",
    "        update!(value(p), g, p.opt)\n",
    "    end\n",
    "    #println(value(L))\n",
    "    return value(L)\n",
    "end"
   ]
  },
  {
   "cell_type": "code",
   "execution_count": 14,
   "metadata": {},
   "outputs": [],
   "source": [
    "Random.seed!(1)\n",
    "\n",
    "d = 128\n",
    "\n",
    "residual = ResBlock(ConvB(1,1,256,128, pad=0),\n",
    "                    ConvB(1,1,128,128, pad=0),\n",
    "                    ConvB(1,1,128,256, pad=0))\n",
    "\n",
    "\n",
    "model_rand =   Chain(residual,\n",
    "                ConvB(1,1,256,d, pad=0),\n",
    "                ConvB(1,1,d,256*3, pad=0))\n",
    "\n",
    "\n",
    "atype=KnetArray{Float32}\n",
    "w = randn(7,7,3,256)\n",
    "w[5:7,:,:,:] .= 0\n",
    "w[4,4:7,:,:] .= 0\n",
    "w = atype(w);\n"
   ]
  },
  {
   "cell_type": "code",
   "execution_count": 15,
   "metadata": {},
   "outputs": [
    {
     "name": "stdout",
     "output_type": "stream",
     "text": [
      "4.995827369689941\n",
      "4.815089569091797\n",
      "4.701465392112732\n",
      "4.614110507965088\n",
      "4.556533675193787\n",
      "4.512005624771118\n",
      "4.472695188522339\n",
      "4.442428603172302\n",
      "4.409692540168762\n",
      "4.381155681610108\n",
      "4.357384762763977\n",
      "4.330796771049499\n",
      "4.311597943305969\n",
      "4.297767415046692\n",
      "4.285689067840576\n",
      "4.274761624336243\n",
      "4.260611038208008\n",
      "4.251335849761963\n",
      "4.242707185745239\n",
      "4.23476749420166\n",
      "4.226480565071106\n",
      "4.218574290275574\n",
      "4.212095146179199\n",
      "4.206090435981751\n",
      "4.200169939994812\n",
      "4.194990229606629\n",
      "4.188476486206055\n",
      "4.183289675712586\n",
      "4.178310842514038\n",
      "4.173879523277282\n",
      "4.16938437461853\n",
      "4.165261840820312\n",
      "4.161410584449768\n",
      "4.156686763763428\n",
      "4.150882077217102\n",
      "4.147193694114685\n",
      "4.141731071472168\n",
      "4.138269920349121\n",
      "4.134956769943237\n",
      "4.131841034889221\n",
      "4.128732213973999\n",
      "4.125838809013366\n",
      "4.123077101707459\n",
      "4.120409803390503\n",
      "4.117861776351929\n",
      "4.115471148490906\n",
      "4.112006640434265\n",
      "4.109522671699524\n",
      "4.107081680297852\n",
      "4.103103303909302\n",
      "4.1007937240600585\n",
      "4.098772296905517\n",
      "4.096733956336975\n",
      "4.0947759294509884\n",
      "4.092955646514892\n",
      "4.091193218231201\n",
      "4.08933837890625\n",
      "4.087615447044373\n",
      "4.085964822769165\n",
      "4.0844873476028445\n",
      "4.081146507263184\n",
      "4.079176864624023\n",
      "4.077591795921325\n",
      "4.0743729829788204\n",
      "4.072808437347412\n",
      "4.0711878967285156\n",
      "4.069714913368225\n",
      "4.0682341718673705\n",
      "4.064915747642517\n",
      "4.063183727264405\n",
      "4.056738080978394\n",
      "4.055187849998474\n",
      "4.051035184860229\n",
      "4.049381375312805\n",
      "4.047931852340699\n",
      "4.046571655273437\n",
      "4.045547337532043\n",
      "4.044021520614624\n",
      "4.039950790405274\n",
      "4.038963255882263\n",
      "4.037595872879028\n",
      "4.036325101852417\n",
      "4.034356880187988\n",
      "4.0331393814086915\n",
      "4.028682641983032\n",
      "4.025572819709778\n",
      "4.024311861991882\n",
      "4.022694458961487\n",
      "4.021489496231079\n",
      "4.019296708106995\n",
      "4.018054823875428\n",
      "4.016956954002381\n",
      "4.015827984809875\n",
      "4.014846501350402\n",
      "4.0120993423461915\n",
      "4.009764156341553\n",
      "4.008508648872375\n",
      "4.0074451589584354\n",
      "4.003585834503173\n"
     ]
    }
   ],
   "source": [
    "losses = zeros(1, 100)\n",
    "batchsize = 50\n",
    "\n",
    "\n",
    "for p in params(model_rand)\n",
    "    p.opt = Adagrad(lr=0.01, gclip=0.01)\n",
    "end\n",
    "\n",
    "batchloss = 0\n",
    "\n",
    "for epochs in 1:100\n",
    "    for batch in 1:1000\n",
    "        batch_data = small_data[:,:,:,((batch-1)*batchsize+1):batch*batchsize]\n",
    "        batch_data = conv4(w, batch_data)\n",
    "        batchloss = trainmodel(model_rand, batch_data, lbls[:,((batch-1)*batchsize+1):batch*batchsize])\n",
    "        #println(batchloss)\n",
    "    end\n",
    "    losses[epochs] = batchloss\n",
    "    println(losses[epochs])\n",
    "end"
   ]
  },
  {
   "cell_type": "code",
   "execution_count": null,
   "metadata": {},
   "outputs": [],
   "source": [
    "params(model_rand)"
   ]
  },
  {
   "cell_type": "code",
   "execution_count": null,
   "metadata": {},
   "outputs": [],
   "source": [
    "@save \"modelCNN3.jld2\" model"
   ]
  },
  {
   "cell_type": "code",
   "execution_count": null,
   "metadata": {},
   "outputs": [],
   "source": [
    "@save \"modelCNN_Cifar.jld2\" model_rand w"
   ]
  },
  {
   "cell_type": "code",
   "execution_count": null,
   "metadata": {},
   "outputs": [],
   "source": [
    "@load \"modelCNN_Cifar.jld2\" model_rand w"
   ]
  },
  {
   "cell_type": "code",
   "execution_count": null,
   "metadata": {},
   "outputs": [],
   "source": [
    "tst_data = small_data[:,:,:,1:10]\n",
    "tst_data = conv4(w, tst_data)\n",
    "score = model(tst_data);"
   ]
  },
  {
   "cell_type": "code",
   "execution_count": 18,
   "metadata": {},
   "outputs": [],
   "source": [
    "using PyPlot"
   ]
  },
  {
   "cell_type": "code",
   "execution_count": null,
   "metadata": {},
   "outputs": [],
   "source": [
    "scores = reshape(score, (3072,256, 10))\n",
    "predicted = argmax(scores[:,:,1], dims=2)\n",
    "pred_image = zeros(3072,1)\n",
    "for i in 1:3072\n",
    "    pred_image[i] = predicted[i][2]\n",
    "end\n",
    "\n",
    "image = reshape(pred_image, (32,32,3));\n",
    "sample = image ./ 256;\n",
    "B = Array{Float32}(sample);\n",
    "#subplot(1,3,2)\n",
    "matshow(B)"
   ]
  },
  {
   "cell_type": "code",
   "execution_count": 19,
   "metadata": {},
   "outputs": [
    {
     "data": {
      "image/png": "[encoded data removed]",
      "text/plain": [
       "Figure(PyObject <Figure size 480x480 with 1 Axes>)"
      ]
     },
     "metadata": {},
     "output_type": "display_data"
    },
    {
     "data": {
      "text/plain": [
       "PyObject <matplotlib.image.AxesImage object at 0x2b294f441220>"
      ]
     },
     "execution_count": 19,
     "metadata": {},
     "output_type": "execute_result"
    }
   ],
   "source": [
    "matshow(train_x[:,:,:,2292])"
   ]
  },
  {
   "cell_type": "code",
   "execution_count": 32,
   "metadata": {},
   "outputs": [
    {
     "data": {
      "image/png": "[encoded data removed]",
      "text/plain": [
       "Figure(PyObject <Figure size 480x480 with 1 Axes>)"
      ]
     },
     "metadata": {},
     "output_type": "display_data"
    }
   ],
   "source": [
    "an_image = train_x[:,:,:,2292]\n",
    "n_rows = 16\n",
    "#an_image = occlude(an_image, n_rows)\n",
    "matshow(an_image)\n",
    "#test_image = reshape(test_image, (32,32,3,1))\n",
    "#test_image = pad(test_image, 3, 1)\n",
    "#test_image = atype(test_image);"
   ]
  },
  {
   "cell_type": "code",
   "execution_count": 37,
   "metadata": {},
   "outputs": [
    {
     "data": {
      "image/png": "[encoded data removed]",
      "text/plain": [
       "Figure(PyObject <Figure size 480x480 with 1 Axes>)"
      ]
     },
     "metadata": {},
     "output_type": "display_data"
    },
    {
     "data": {
      "text/plain": [
       "PyObject <matplotlib.image.AxesImage object at 0x2b2a9ed627f0>"
      ]
     },
     "execution_count": 37,
     "metadata": {},
     "output_type": "execute_result"
    }
   ],
   "source": [
    "#orig_image = copy(test_x[:,:,:,42])\n",
    "new_image = zeros(size(an_image))\n",
    "orig_image = copy(an_image)\n",
    "orig_image = reshape(orig_image, (32,32,3,1))\n",
    "for j in n_rows+1:32\n",
    "    for k in 1:32\n",
    "        test_image = pad(orig_image, 3, 0.1)\n",
    "        test_image = atype(test_image);\n",
    "        test_image = conv4(w, test_image)\n",
    "        score = model_rand(test_image)\n",
    "        scores = reshape(score, (3072,256, 1));\n",
    "        predicted = argmax(scores, dims=2)\n",
    "        pred_image = zeros(3072,1)\n",
    "        for i in 1:3072\n",
    "            pred_image[i] = predicted[i][2]\n",
    "        end\n",
    "        image = reshape(pred_image, (32,32,3));\n",
    "        sample = image ./ 256;\n",
    "        B = KnetArray{Float32}(sample);\n",
    "        #println(B[j,k,:])\n",
    "        orig_image[j,k,:,:] .= B[j,k,:]\n",
    "        new_image[j,k,:,:] .= B[j,k,:]\n",
    "        \n",
    "    end\n",
    "end\n",
    "image = reshape(orig_image, (32,32,3));\n",
    "matshow(image)"
   ]
  },
  {
   "cell_type": "code",
   "execution_count": 36,
   "metadata": {},
   "outputs": [
    {
     "data": {
      "image/png": "[encoded data removed]",
      "text/plain": [
       "Figure(PyObject <Figure size 480x480 with 1 Axes>)"
      ]
     },
     "metadata": {},
     "output_type": "display_data"
    },
    {
     "data": {
      "text/plain": [
       "PyObject <matplotlib.image.AxesImage object at 0x2b2a9e766400>"
      ]
     },
     "execution_count": 36,
     "metadata": {},
     "output_type": "execute_result"
    }
   ],
   "source": [
    "matshow(new_image)"
   ]
  },
  {
   "cell_type": "code",
   "execution_count": null,
   "metadata": {},
   "outputs": [],
   "source": [
    "matshow(test_x[:,:,:,42])"
   ]
  },
  {
   "cell_type": "code",
   "execution_count": null,
   "metadata": {},
   "outputs": [],
   "source": []
  }
 ],
 "metadata": {
  "kernelspec": {
   "display_name": "Julia 1.5.3",
   "language": "julia",
   "name": "julia-1.5"
  },
  "language_info": {
   "file_extension": ".jl",
   "mimetype": "application/julia",
   "name": "julia",
   "version": "1.5.3"
  }
 },
 "nbformat": 4,
 "nbformat_minor": 4
}
